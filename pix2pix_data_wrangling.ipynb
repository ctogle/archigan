{
 "cells": [
  {
   "cell_type": "code",
   "execution_count": 1,
   "metadata": {},
   "outputs": [],
   "source": [
    "#%matplotlib notebook\n",
    "import glob\n",
    "#import io\n",
    "import os\n",
    "import cv2\n",
    "import geopandas as gpd\n",
    "from shapely.geometry import Polygon, MultiPolygon\n",
    "from svglib.svglib import svg2rlg\n",
    "from collections import defaultdict\n",
    "from fiona.crs import from_epsg\n",
    "#from tqdm import tqdm\n",
    "from tqdm import tqdm_notebook as tqdm\n",
    "import numpy as np\n",
    "#import matplotlib; matplotlib.use('agg')\n",
    "#import matplotlib.pyplot as plt\n",
    "#from matplotlib.figure import Figure\n",
    "#from matplotlib.backends.backend_agg import FigureCanvas\n",
    "\n",
    "from archigan.datalayer import Layer\n",
    "from archigan.pipeline import ArchiPipeline\n",
    "from archigan.boston import ParcelInputLayer, ParcelOutputLayer, parse_GIS_bostonbuildings_2016\n",
    "from archigan.cvc_fp import FootprintInputLayer, RepartitionInputLayer, RepartitionOutputLayer, parse_CVC_FP_svg"
   ]
  },
  {
   "cell_type": "code",
   "execution_count": 4,
   "metadata": {},
   "outputs": [
    {
     "data": {
      "application/vnd.jupyter.widget-view+json": {
       "model_id": "2cfd87fc68ce45c38e8b8f3494e41b95",
       "version_major": 2,
       "version_minor": 0
      },
      "text/plain": [
       "HBox(children=(IntProgress(value=0, description='ParcelInputLayer', style=ProgressStyle(description_width='ini…"
      ]
     },
     "metadata": {},
     "output_type": "display_data"
    },
    {
     "name": "stderr",
     "output_type": "stream",
     "text": [
      "/home/cogle/dev/anaconda3/lib/python3.7/site-packages/matplotlib/tight_layout.py:231: UserWarning: tight_layout : falling back to Agg renderer\n",
      "  warnings.warn(\"tight_layout : falling back to Agg renderer\")\n"
     ]
    },
    {
     "name": "stdout",
     "output_type": "stream",
     "text": [
      "\n"
     ]
    },
    {
     "data": {
      "application/vnd.jupyter.widget-view+json": {
       "model_id": "c78fcc6dd0d84938b312f122f8400430",
       "version_major": 2,
       "version_minor": 0
      },
      "text/plain": [
       "HBox(children=(IntProgress(value=0, description='ParcelOutputLayer', style=ProgressStyle(description_width='in…"
      ]
     },
     "metadata": {},
     "output_type": "display_data"
    },
    {
     "ename": "KeyboardInterrupt",
     "evalue": "",
     "output_type": "error",
     "traceback": [
      "\u001b[0;31m---------------------------------------------------------------------------\u001b[0m",
      "\u001b[0;31mKeyboardInterrupt\u001b[0m                         Traceback (most recent call last)",
      "\u001b[0;32m<ipython-input-4-5ee501a7d68c>\u001b[0m in \u001b[0;36m<module>\u001b[0;34m\u001b[0m\n\u001b[1;32m      1\u001b[0m \u001b[0mParcelInputLayer\u001b[0m\u001b[0;34m.\u001b[0m\u001b[0msamples_to_imgs\u001b[0m\u001b[0;34m(\u001b[0m\u001b[0mparsed\u001b[0m\u001b[0;34m,\u001b[0m \u001b[0mdirectory\u001b[0m\u001b[0;34m)\u001b[0m\u001b[0;34m\u001b[0m\u001b[0;34m\u001b[0m\u001b[0m\n\u001b[0;32m----> 2\u001b[0;31m \u001b[0mParcelOutputLayer\u001b[0m\u001b[0;34m.\u001b[0m\u001b[0msamples_to_imgs\u001b[0m\u001b[0;34m(\u001b[0m\u001b[0mparsed\u001b[0m\u001b[0;34m,\u001b[0m \u001b[0mdirectory\u001b[0m\u001b[0;34m)\u001b[0m\u001b[0;34m\u001b[0m\u001b[0;34m\u001b[0m\u001b[0m\n\u001b[0m",
      "\u001b[0;32m~/dev/mine/archigan/archigan/datalayer.py\u001b[0m in \u001b[0;36msamples_to_imgs\u001b[0;34m(cls, parsed_svgs, directory, show_instead)\u001b[0m\n\u001b[1;32m     42\u001b[0m             \u001b[0mbyclass\u001b[0m \u001b[0;34m=\u001b[0m \u001b[0msample\u001b[0m\u001b[0;34m[\u001b[0m\u001b[0;34m'byclass'\u001b[0m\u001b[0;34m]\u001b[0m\u001b[0;34m\u001b[0m\u001b[0;34m\u001b[0m\u001b[0m\n\u001b[1;32m     43\u001b[0m             \u001b[0mheight\u001b[0m\u001b[0;34m,\u001b[0m \u001b[0mwidth\u001b[0m \u001b[0;34m=\u001b[0m \u001b[0msample\u001b[0m\u001b[0;34m[\u001b[0m\u001b[0;34m'height'\u001b[0m\u001b[0;34m]\u001b[0m\u001b[0;34m,\u001b[0m \u001b[0msample\u001b[0m\u001b[0;34m[\u001b[0m\u001b[0;34m'width'\u001b[0m\u001b[0;34m]\u001b[0m\u001b[0;34m\u001b[0m\u001b[0;34m\u001b[0m\u001b[0m\n\u001b[0;32m---> 44\u001b[0;31m             \u001b[0mimage\u001b[0m \u001b[0;34m=\u001b[0m \u001b[0mlayer\u001b[0m\u001b[0;34m(\u001b[0m\u001b[0mbyclass\u001b[0m\u001b[0;34m,\u001b[0m \u001b[0mheight\u001b[0m\u001b[0;34m,\u001b[0m \u001b[0mwidth\u001b[0m\u001b[0;34m)\u001b[0m\u001b[0;34m\u001b[0m\u001b[0;34m\u001b[0m\u001b[0m\n\u001b[0m\u001b[1;32m     45\u001b[0m             \u001b[0;32mif\u001b[0m \u001b[0mshow_instead\u001b[0m\u001b[0;34m:\u001b[0m\u001b[0;34m\u001b[0m\u001b[0;34m\u001b[0m\u001b[0m\n\u001b[1;32m     46\u001b[0m                 \u001b[0mlayer\u001b[0m\u001b[0;34m.\u001b[0m\u001b[0mshow\u001b[0m\u001b[0;34m(\u001b[0m\u001b[0mlayer\u001b[0m\u001b[0;34m=\u001b[0m\u001b[0mimage\u001b[0m\u001b[0;34m)\u001b[0m\u001b[0;34m\u001b[0m\u001b[0;34m\u001b[0m\u001b[0m\n",
      "\u001b[0;32m~/dev/mine/archigan/archigan/boston.py\u001b[0m in \u001b[0;36m__call__\u001b[0;34m(self, byclass, height, width)\u001b[0m\n\u001b[1;32m    124\u001b[0m \u001b[0;34m\u001b[0m\u001b[0m\n\u001b[1;32m    125\u001b[0m     \u001b[0;32mdef\u001b[0m \u001b[0m__call__\u001b[0m\u001b[0;34m(\u001b[0m\u001b[0mself\u001b[0m\u001b[0;34m,\u001b[0m \u001b[0mbyclass\u001b[0m\u001b[0;34m,\u001b[0m \u001b[0mheight\u001b[0m\u001b[0;34m,\u001b[0m \u001b[0mwidth\u001b[0m\u001b[0;34m)\u001b[0m\u001b[0;34m:\u001b[0m\u001b[0;34m\u001b[0m\u001b[0;34m\u001b[0m\u001b[0m\n\u001b[0;32m--> 126\u001b[0;31m         \u001b[0mlayer\u001b[0m \u001b[0;34m=\u001b[0m \u001b[0mself\u001b[0m\u001b[0;34m.\u001b[0m\u001b[0mparcel_mask\u001b[0m\u001b[0;34m(\u001b[0m\u001b[0mbyclass\u001b[0m\u001b[0;34m,\u001b[0m \u001b[0mheight\u001b[0m\u001b[0;34m,\u001b[0m \u001b[0mwidth\u001b[0m\u001b[0;34m)\u001b[0m\u001b[0;34m\u001b[0m\u001b[0;34m\u001b[0m\u001b[0m\n\u001b[0m\u001b[1;32m    127\u001b[0m         \u001b[0mlayer\u001b[0m \u001b[0;34m=\u001b[0m \u001b[0mlayer\u001b[0m\u001b[0;34m.\u001b[0m\u001b[0mmax\u001b[0m\u001b[0;34m(\u001b[0m\u001b[0;34m)\u001b[0m \u001b[0;34m-\u001b[0m \u001b[0mlayer\u001b[0m\u001b[0;34m\u001b[0m\u001b[0;34m\u001b[0m\u001b[0m\n\u001b[1;32m    128\u001b[0m         \u001b[0;31m# blend in building footprints\u001b[0m\u001b[0;34m\u001b[0m\u001b[0;34m\u001b[0m\u001b[0;34m\u001b[0m\u001b[0m\n",
      "\u001b[0;32m~/dev/mine/archigan/archigan/boston.py\u001b[0m in \u001b[0;36mparcel_mask\u001b[0;34m(self, byclass, height, width)\u001b[0m\n\u001b[1;32m    103\u001b[0m         \u001b[0mmargin\u001b[0m \u001b[0;34m=\u001b[0m \u001b[0;36m0.1\u001b[0m \u001b[0;34m*\u001b[0m \u001b[0mmax\u001b[0m\u001b[0;34m(\u001b[0m\u001b[0mheight\u001b[0m\u001b[0;34m,\u001b[0m \u001b[0mwidth\u001b[0m\u001b[0;34m)\u001b[0m\u001b[0;34m\u001b[0m\u001b[0;34m\u001b[0m\u001b[0m\n\u001b[1;32m    104\u001b[0m         \u001b[0mparcel\u001b[0m \u001b[0;34m=\u001b[0m \u001b[0;34m{\u001b[0m\u001b[0;34m'parcel'\u001b[0m\u001b[0;34m:\u001b[0m \u001b[0mbyclass\u001b[0m\u001b[0;34m[\u001b[0m\u001b[0;34m'parcel'\u001b[0m\u001b[0;34m]\u001b[0m\u001b[0;34m}\u001b[0m\u001b[0;34m\u001b[0m\u001b[0;34m\u001b[0m\u001b[0m\n\u001b[0;32m--> 105\u001b[0;31m         \u001b[0mmask\u001b[0m \u001b[0;34m=\u001b[0m \u001b[0mself\u001b[0m\u001b[0;34m.\u001b[0m\u001b[0mmask\u001b[0m\u001b[0;34m(\u001b[0m\u001b[0mparcel\u001b[0m\u001b[0;34m,\u001b[0m \u001b[0mheight\u001b[0m\u001b[0;34m,\u001b[0m \u001b[0mwidth\u001b[0m\u001b[0;34m,\u001b[0m \u001b[0mmargin\u001b[0m\u001b[0;34m=\u001b[0m\u001b[0mmargin\u001b[0m\u001b[0;34m)\u001b[0m\u001b[0;34m\u001b[0m\u001b[0;34m\u001b[0m\u001b[0m\n\u001b[0m\u001b[1;32m    106\u001b[0m         \u001b[0;31m# erode so that footprints are better contained by parcels on average...\u001b[0m\u001b[0;34m\u001b[0m\u001b[0;34m\u001b[0m\u001b[0;34m\u001b[0m\u001b[0m\n\u001b[1;32m    107\u001b[0m         \u001b[0mkernel\u001b[0m \u001b[0;34m=\u001b[0m \u001b[0mnp\u001b[0m\u001b[0;34m.\u001b[0m\u001b[0mones\u001b[0m\u001b[0;34m(\u001b[0m\u001b[0;34m(\u001b[0m\u001b[0;36m3\u001b[0m\u001b[0;34m,\u001b[0m \u001b[0;36m3\u001b[0m\u001b[0;34m)\u001b[0m\u001b[0;34m,\u001b[0m \u001b[0mnp\u001b[0m\u001b[0;34m.\u001b[0m\u001b[0muint8\u001b[0m\u001b[0;34m)\u001b[0m\u001b[0;34m\u001b[0m\u001b[0;34m\u001b[0m\u001b[0m\n",
      "\u001b[0;32m~/dev/mine/archigan/archigan/datalayer.py\u001b[0m in \u001b[0;36mmask\u001b[0;34m(self, byclass, height, width, margin, figsize, dpi)\u001b[0m\n\u001b[1;32m     90\u001b[0m         \u001b[0max\u001b[0m\u001b[0;34m.\u001b[0m\u001b[0mset_ylim\u001b[0m\u001b[0;34m(\u001b[0m\u001b[0;36m0\u001b[0m \u001b[0;34m-\u001b[0m \u001b[0mmargin\u001b[0m\u001b[0;34m,\u001b[0m \u001b[0mwidth\u001b[0m  \u001b[0;34m+\u001b[0m \u001b[0mmargin\u001b[0m\u001b[0;34m)\u001b[0m\u001b[0;34m\u001b[0m\u001b[0;34m\u001b[0m\u001b[0m\n\u001b[1;32m     91\u001b[0m         \u001b[0mcanvas\u001b[0m\u001b[0;34m.\u001b[0m\u001b[0mdraw\u001b[0m\u001b[0;34m(\u001b[0m\u001b[0;34m)\u001b[0m\u001b[0;34m\u001b[0m\u001b[0;34m\u001b[0m\u001b[0m\n\u001b[0;32m---> 92\u001b[0;31m         \u001b[0mmask\u001b[0m \u001b[0;34m=\u001b[0m \u001b[0mself\u001b[0m\u001b[0;34m.\u001b[0m\u001b[0mfigure_buffer\u001b[0m\u001b[0;34m(\u001b[0m\u001b[0mfig\u001b[0m\u001b[0;34m,\u001b[0m \u001b[0mdpi\u001b[0m\u001b[0;34m=\u001b[0m\u001b[0mdpi\u001b[0m\u001b[0;34m)\u001b[0m\u001b[0;34m\u001b[0m\u001b[0;34m\u001b[0m\u001b[0m\n\u001b[0m\u001b[1;32m     93\u001b[0m         \u001b[0mmask\u001b[0m \u001b[0;34m=\u001b[0m \u001b[0mcv2\u001b[0m\u001b[0;34m.\u001b[0m\u001b[0mcvtColor\u001b[0m\u001b[0;34m(\u001b[0m\u001b[0mmask\u001b[0m\u001b[0;34m,\u001b[0m \u001b[0mcv2\u001b[0m\u001b[0;34m.\u001b[0m\u001b[0mCOLOR_BGR2GRAY\u001b[0m\u001b[0;34m)\u001b[0m\u001b[0;34m\u001b[0m\u001b[0;34m\u001b[0m\u001b[0m\n\u001b[1;32m     94\u001b[0m         \u001b[0;31m# fill in the gaps via:\u001b[0m\u001b[0;34m\u001b[0m\u001b[0;34m\u001b[0m\u001b[0;34m\u001b[0m\u001b[0m\n",
      "\u001b[0;32m~/dev/mine/archigan/archigan/datalayer.py\u001b[0m in \u001b[0;36mfigure_buffer\u001b[0;34m(self, fig, dpi)\u001b[0m\n\u001b[1;32m     69\u001b[0m         \u001b[0;34m\"\"\"Create np.array representation from matplotlib figure buffer\"\"\"\u001b[0m\u001b[0;34m\u001b[0m\u001b[0;34m\u001b[0m\u001b[0m\n\u001b[1;32m     70\u001b[0m         \u001b[0mbuf\u001b[0m \u001b[0;34m=\u001b[0m \u001b[0mio\u001b[0m\u001b[0;34m.\u001b[0m\u001b[0mBytesIO\u001b[0m\u001b[0;34m(\u001b[0m\u001b[0;34m)\u001b[0m\u001b[0;34m\u001b[0m\u001b[0;34m\u001b[0m\u001b[0m\n\u001b[0;32m---> 71\u001b[0;31m         \u001b[0mfig\u001b[0m\u001b[0;34m.\u001b[0m\u001b[0msavefig\u001b[0m\u001b[0;34m(\u001b[0m\u001b[0mbuf\u001b[0m\u001b[0;34m,\u001b[0m \u001b[0mformat\u001b[0m\u001b[0;34m=\u001b[0m\u001b[0;34m\"png\"\u001b[0m\u001b[0;34m,\u001b[0m \u001b[0mdpi\u001b[0m\u001b[0;34m=\u001b[0m\u001b[0mdpi\u001b[0m\u001b[0;34m)\u001b[0m\u001b[0;34m\u001b[0m\u001b[0;34m\u001b[0m\u001b[0m\n\u001b[0m\u001b[1;32m     72\u001b[0m         \u001b[0mbuf\u001b[0m\u001b[0;34m.\u001b[0m\u001b[0mseek\u001b[0m\u001b[0;34m(\u001b[0m\u001b[0;36m0\u001b[0m\u001b[0;34m)\u001b[0m\u001b[0;34m\u001b[0m\u001b[0;34m\u001b[0m\u001b[0m\n\u001b[1;32m     73\u001b[0m         \u001b[0mimg_arr\u001b[0m \u001b[0;34m=\u001b[0m \u001b[0mnp\u001b[0m\u001b[0;34m.\u001b[0m\u001b[0mfrombuffer\u001b[0m\u001b[0;34m(\u001b[0m\u001b[0mbuf\u001b[0m\u001b[0;34m.\u001b[0m\u001b[0mgetvalue\u001b[0m\u001b[0;34m(\u001b[0m\u001b[0;34m)\u001b[0m\u001b[0;34m,\u001b[0m \u001b[0mdtype\u001b[0m\u001b[0;34m=\u001b[0m\u001b[0mnp\u001b[0m\u001b[0;34m.\u001b[0m\u001b[0muint8\u001b[0m\u001b[0;34m)\u001b[0m\u001b[0;34m\u001b[0m\u001b[0;34m\u001b[0m\u001b[0m\n",
      "\u001b[0;32m~/dev/anaconda3/lib/python3.7/site-packages/matplotlib/figure.py\u001b[0m in \u001b[0;36msavefig\u001b[0;34m(self, fname, frameon, transparent, **kwargs)\u001b[0m\n\u001b[1;32m   2092\u001b[0m             \u001b[0mself\u001b[0m\u001b[0;34m.\u001b[0m\u001b[0mset_frameon\u001b[0m\u001b[0;34m(\u001b[0m\u001b[0mframeon\u001b[0m\u001b[0;34m)\u001b[0m\u001b[0;34m\u001b[0m\u001b[0;34m\u001b[0m\u001b[0m\n\u001b[1;32m   2093\u001b[0m \u001b[0;34m\u001b[0m\u001b[0m\n\u001b[0;32m-> 2094\u001b[0;31m         \u001b[0mself\u001b[0m\u001b[0;34m.\u001b[0m\u001b[0mcanvas\u001b[0m\u001b[0;34m.\u001b[0m\u001b[0mprint_figure\u001b[0m\u001b[0;34m(\u001b[0m\u001b[0mfname\u001b[0m\u001b[0;34m,\u001b[0m \u001b[0;34m**\u001b[0m\u001b[0mkwargs\u001b[0m\u001b[0;34m)\u001b[0m\u001b[0;34m\u001b[0m\u001b[0;34m\u001b[0m\u001b[0m\n\u001b[0m\u001b[1;32m   2095\u001b[0m \u001b[0;34m\u001b[0m\u001b[0m\n\u001b[1;32m   2096\u001b[0m         \u001b[0;32mif\u001b[0m \u001b[0mframeon\u001b[0m\u001b[0;34m:\u001b[0m\u001b[0;34m\u001b[0m\u001b[0;34m\u001b[0m\u001b[0m\n",
      "\u001b[0;32m~/dev/anaconda3/lib/python3.7/site-packages/matplotlib/backend_bases.py\u001b[0m in \u001b[0;36mprint_figure\u001b[0;34m(self, filename, dpi, facecolor, edgecolor, orientation, format, bbox_inches, **kwargs)\u001b[0m\n\u001b[1;32m   2073\u001b[0m                     \u001b[0morientation\u001b[0m\u001b[0;34m=\u001b[0m\u001b[0morientation\u001b[0m\u001b[0;34m,\u001b[0m\u001b[0;34m\u001b[0m\u001b[0;34m\u001b[0m\u001b[0m\n\u001b[1;32m   2074\u001b[0m                     \u001b[0mbbox_inches_restore\u001b[0m\u001b[0;34m=\u001b[0m\u001b[0m_bbox_inches_restore\u001b[0m\u001b[0;34m,\u001b[0m\u001b[0;34m\u001b[0m\u001b[0;34m\u001b[0m\u001b[0m\n\u001b[0;32m-> 2075\u001b[0;31m                     **kwargs)\n\u001b[0m\u001b[1;32m   2076\u001b[0m             \u001b[0;32mfinally\u001b[0m\u001b[0;34m:\u001b[0m\u001b[0;34m\u001b[0m\u001b[0;34m\u001b[0m\u001b[0m\n\u001b[1;32m   2077\u001b[0m                 \u001b[0;32mif\u001b[0m \u001b[0mbbox_inches\u001b[0m \u001b[0;32mand\u001b[0m \u001b[0mrestore_bbox\u001b[0m\u001b[0;34m:\u001b[0m\u001b[0;34m\u001b[0m\u001b[0;34m\u001b[0m\u001b[0m\n",
      "\u001b[0;32m~/dev/anaconda3/lib/python3.7/site-packages/matplotlib/backends/backend_agg.py\u001b[0m in \u001b[0;36mprint_png\u001b[0;34m(self, filename_or_obj, *args, **kwargs)\u001b[0m\n\u001b[1;32m    521\u001b[0m                 \u001b[0mcbook\u001b[0m\u001b[0;34m.\u001b[0m\u001b[0mopen_file_cm\u001b[0m\u001b[0;34m(\u001b[0m\u001b[0mfilename_or_obj\u001b[0m\u001b[0;34m,\u001b[0m \u001b[0;34m\"wb\"\u001b[0m\u001b[0;34m)\u001b[0m \u001b[0;32mas\u001b[0m \u001b[0mfh\u001b[0m\u001b[0;34m:\u001b[0m\u001b[0;34m\u001b[0m\u001b[0;34m\u001b[0m\u001b[0m\n\u001b[1;32m    522\u001b[0m             _png.write_png(renderer._renderer, fh,\n\u001b[0;32m--> 523\u001b[0;31m                             self.figure.dpi, metadata=metadata)\n\u001b[0m\u001b[1;32m    524\u001b[0m \u001b[0;34m\u001b[0m\u001b[0m\n\u001b[1;32m    525\u001b[0m     \u001b[0;32mdef\u001b[0m \u001b[0mprint_to_buffer\u001b[0m\u001b[0;34m(\u001b[0m\u001b[0mself\u001b[0m\u001b[0;34m)\u001b[0m\u001b[0;34m:\u001b[0m\u001b[0;34m\u001b[0m\u001b[0;34m\u001b[0m\u001b[0m\n",
      "\u001b[0;31mKeyboardInterrupt\u001b[0m: "
     ]
    }
   ],
   "source": [
    "ParcelInputLayer.samples_to_imgs(parsed, directory)\n",
    "ParcelOutputLayer.samples_to_imgs(parsed, directory)"
   ]
  },
  {
   "cell_type": "code",
   "execution_count": 2,
   "metadata": {},
   "outputs": [
    {
     "name": "stdout",
     "output_type": "stream",
     "text": [
      "Reading parcel data: datasets/boston_buildings/2016/Parcels_2016_Data_Full.shp\n",
      "Reading footprint data: datasets/boston_buildings/2016/boston_buildings.shp\n",
      "Reprojecting footprint data to EPSG: 3857\n"
     ]
    },
    {
     "name": "stderr",
     "output_type": "stream",
     "text": [
      "/home/cogle/dev/anaconda3/lib/python3.7/site-packages/pyproj/crs/crs.py:53: FutureWarning: '+init=<authority>:<code>' syntax is deprecated. '<authority>:<code>' is the preferred initialization method. When making the change, be mindful of axis order changes: https://pyproj4.github.io/pyproj/stable/gotchas.html#axis-order-changes-in-proj-6\n",
      "  return _prepare_from_string(\" \".join(pjargs))\n"
     ]
    },
    {
     "data": {
      "application/vnd.jupyter.widget-view+json": {
       "model_id": "9e6f89c28f244447907d25b65e3e0be7",
       "version_major": 2,
       "version_minor": 0
      },
      "text/plain": [
       "HBox(children=(IntProgress(value=1, bar_style='info', description='Preparing parcel/footprint data', max=1, st…"
      ]
     },
     "metadata": {},
     "output_type": "display_data"
    },
    {
     "name": "stdout",
     "output_type": "stream",
     "text": [
      "\n",
      "N: 100\n"
     ]
    },
    {
     "data": {
      "application/vnd.jupyter.widget-view+json": {
       "model_id": "a669d03bab694fcfbd49f5a9e3c2b8d4",
       "version_major": 2,
       "version_minor": 0
      },
      "text/plain": [
       "HBox(children=(IntProgress(value=0, description='ParcelInputLayer', style=ProgressStyle(description_width='ini…"
      ]
     },
     "metadata": {},
     "output_type": "display_data"
    },
    {
     "name": "stderr",
     "output_type": "stream",
     "text": [
      "/home/cogle/dev/anaconda3/lib/python3.7/site-packages/matplotlib/tight_layout.py:231: UserWarning: tight_layout : falling back to Agg renderer\n",
      "  warnings.warn(\"tight_layout : falling back to Agg renderer\")\n"
     ]
    },
    {
     "name": "stdout",
     "output_type": "stream",
     "text": [
      "\n"
     ]
    },
    {
     "data": {
      "application/vnd.jupyter.widget-view+json": {
       "model_id": "480e20db5447472bbbc177402bb8c4d3",
       "version_major": 2,
       "version_minor": 0
      },
      "text/plain": [
       "HBox(children=(IntProgress(value=0, description='ParcelOutputLayer', style=ProgressStyle(description_width='in…"
      ]
     },
     "metadata": {},
     "output_type": "display_data"
    },
    {
     "name": "stdout",
     "output_type": "stream",
     "text": [
      "\n"
     ]
    }
   ],
   "source": [
    "path = 'datasets/boston_buildings/2016'\n",
    "\n",
    "parsed = parse_GIS_bostonbuildings_2016(path)\n",
    "parsed = {f'boston_{j:04d}': sample for j, sample in enumerate(parsed[:100])}\n",
    "\n",
    "directory = './tmp/'\n",
    "\n",
    "print('N:', len(parsed))\n",
    "\n",
    "ParcelInputLayer.samples_to_imgs(parsed, directory)\n",
    "ParcelOutputLayer.samples_to_imgs(parsed, directory)"
   ]
  },
  {
   "cell_type": "code",
   "execution_count": 3,
   "metadata": {
    "scrolled": false
   },
   "outputs": [
    {
     "data": {
      "application/vnd.jupyter.widget-view+json": {
       "model_id": "7d1b4494608744578b73564691328605",
       "version_major": 2,
       "version_minor": 0
      },
      "text/plain": [
       "HBox(children=(IntProgress(value=0, description='FootprintInputLayer', max=122, style=ProgressStyle(descriptio…"
      ]
     },
     "metadata": {},
     "output_type": "display_data"
    },
    {
     "name": "stdout",
     "output_type": "stream",
     "text": [
      "\n"
     ]
    },
    {
     "data": {
      "application/vnd.jupyter.widget-view+json": {
       "model_id": "dff6bf314ce745c3aa2f8d92f08609aa",
       "version_major": 2,
       "version_minor": 0
      },
      "text/plain": [
       "HBox(children=(IntProgress(value=0, description='RepartitionInputLayer', max=122, style=ProgressStyle(descript…"
      ]
     },
     "metadata": {},
     "output_type": "display_data"
    },
    {
     "name": "stdout",
     "output_type": "stream",
     "text": [
      "\n"
     ]
    },
    {
     "data": {
      "application/vnd.jupyter.widget-view+json": {
       "model_id": "a26278564eca4489b6b678195139e112",
       "version_major": 2,
       "version_minor": 0
      },
      "text/plain": [
       "HBox(children=(IntProgress(value=0, description='RepartitionOutputLayer', max=122, style=ProgressStyle(descrip…"
      ]
     },
     "metadata": {},
     "output_type": "display_data"
    },
    {
     "name": "stdout",
     "output_type": "stream",
     "text": [
      "\n"
     ]
    }
   ],
   "source": [
    "svgs = glob.glob('datasets/ImagesGT/*.svg')\n",
    "classes = (\n",
    "    'Door',\n",
    "    'Window',\n",
    "    'Room',\n",
    "    'Wall',\n",
    "    'Separation',\n",
    "    'Parking',\n",
    ")\n",
    "parsed = {svg: parse_CVC_FP_svg(svg, classes) for svg in svgs}\n",
    "directory = './tmp/'\n",
    "\n",
    "FootprintInputLayer.samples_to_imgs(parsed, directory)\n",
    "RepartitionInputLayer.samples_to_imgs(parsed, directory)\n",
    "RepartitionOutputLayer.samples_to_imgs(parsed, directory)"
   ]
  },
  {
   "cell_type": "code",
   "execution_count": 9,
   "metadata": {},
   "outputs": [
    {
     "name": "stdout",
     "output_type": "stream",
     "text": [
      "['./tmp/ParcelInputLayer', './tmp/ParcelOutputLayer', './tmp/FootprintInputLayer', './tmp/RepartitionInputLayer', './tmp/RepartitionOutputLayer'] [(0, 1), (2, 3), (3, 4)] ./prepared/parcel2floorplan_3stage\n"
     ]
    }
   ],
   "source": [
    "stages = (\n",
    "    'ParcelInputLayer',\n",
    "    'ParcelOutputLayer',\n",
    "    'FootprintInputLayer',\n",
    "    'RepartitionInputLayer',\n",
    "    'RepartitionOutputLayer',\n",
    ")\n",
    "layers = [os.path.join('./tmp', layer) for layer in stages]\n",
    "stages = [(j - 1, j) for j in range(1, len(layers))]\n",
    "stages.pop(1)\n",
    "directory = './prepared/parcel2floorplan_3stage'\n",
    "\n",
    "print(layers, stages, directory)\n",
    "pipeline = ArchiPipeline(layers, stages)"
   ]
  },
  {
   "cell_type": "code",
   "execution_count": 6,
   "metadata": {},
   "outputs": [],
   "source": [
    "os.makedirs('./prepared/parcel2floorplan_3stage')"
   ]
  },
  {
   "cell_type": "code",
   "execution_count": 10,
   "metadata": {},
   "outputs": [
    {
     "name": "stderr",
     "output_type": "stream",
     "text": [
      "88 samples in train: 100%|██████████| 100/100 [00:00<00:00, 208.05it/s]\n",
      "108 samples in train: 100%|██████████| 122/122 [00:00<00:00, 238.05it/s]\n",
      "108 samples in train: 100%|██████████| 122/122 [00:00<00:00, 203.61it/s]\n"
     ]
    }
   ],
   "source": [
    "pipeline.setup_training(directory)"
   ]
  },
  {
   "cell_type": "code",
   "execution_count": 3,
   "metadata": {},
   "outputs": [],
   "source": [
    "class FootprintInputLayer(Layer):\n",
    "    \n",
    "    labels = dict([\n",
    "        ('Footprint', 5),\n",
    "    ])\n",
    "\n",
    "    def __call__(self, byclass, height, width):\n",
    "        mask = self.norm_mask(self.mask(byclass, height, width))\n",
    "        layer = mask.max() - mask\n",
    "        return layer\n",
    "\n",
    "        \n",
    "class RepartitionInputLayer(Layer):\n",
    "    \n",
    "    labels = dict([\n",
    "        ('Door', 1),\n",
    "        ('Window', 2),\n",
    "        ('Parking', 3),\n",
    "        ('Room', 5),\n",
    "    ])\n",
    "\n",
    "    def __call__(self, byclass, height, width):\n",
    "        # start with the inverse of the mask\n",
    "        # blend in annotations which touch the boundary of the footprint\n",
    "        mask = self.norm_mask(self.mask(byclass, height, width))\n",
    "        layer = mask.max() - mask\n",
    "        for cls, label in self.labels.items():\n",
    "            for py in byclass[cls]:\n",
    "                # determine if a dilated mask of py intersects the mask\n",
    "                # which implies its a feature on the boundary of the footprint\n",
    "                pymask = self.mask({cls: [py]}, height, width)\n",
    "                kernel = np.ones((3, 3), np.uint8) \n",
    "                pyfilt = cv2.erode(pymask.copy(), kernel, iterations=1)\n",
    "                pyfilt = (((mask) * (pyfilt.max() - pyfilt)).max() > 0)\n",
    "                if pyfilt or cls == 'Room':\n",
    "                    weight = (pymask == 0).astype(int)\n",
    "                    layer = weight * label + (1 - weight) * layer\n",
    "        return layer\n",
    "\n",
    "\n",
    "class RepartitionOutputLayer(Layer):\n",
    "    \n",
    "    labels = dict([\n",
    "        ('Door', 1),\n",
    "        ('Window', 2),\n",
    "        ('Parking', 3),\n",
    "        ('Room', 4),\n",
    "        ('Wall', 5),\n",
    "    ])\n",
    "\n",
    "    def __call__(self, byclass, height, width):\n",
    "        mask = self.norm_mask(self.mask(byclass, height, width))\n",
    "        layer = mask.max() - mask\n",
    "        # start with the inverse of the mask\n",
    "        # blend in annotations which touch the boundary of the footprint\n",
    "        for cls, label in self.labels.items():\n",
    "            for py in byclass[cls]:\n",
    "                # determine if a dilated mask of py intersects the mask\n",
    "                # which implies its a feature on the boundary of the footprint\n",
    "                pymask = self.mask({cls: [py]}, height, width)\n",
    "                kernel = np.ones((3, 3), np.uint8) \n",
    "                pymask = cv2.erode(pymask, kernel, iterations=3)\n",
    "                # blend a mask of py with the layer using a binary weight\n",
    "                weight = (pymask == 0).astype(int)\n",
    "                layer = weight * label + (1 - weight) * layer\n",
    "        return layer"
   ]
  },
  {
   "cell_type": "code",
   "execution_count": 4,
   "metadata": {},
   "outputs": [],
   "source": [
    "def parse_CVC_FP_svg(path, classes):\n",
    "    \"\"\"Parser for SVGs form the CVC-FP dataset:\n",
    "        http://dag.cvc.uab.es/resources/floorplans/\n",
    "    \"\"\"\n",
    "    drawing = svg2rlg(path)\n",
    "    byclass = defaultdict(list)\n",
    "    for cls in classes:\n",
    "        for py in drawing.contents[0].contents:\n",
    "            if py._class == cls:\n",
    "                loop = list(zip(py.points[::2], py.points[1::2]))\n",
    "                byclass[py._class].append(loop)\n",
    "    sample = {\n",
    "        'byclass': byclass,\n",
    "        'height': drawing.height,\n",
    "        'width': drawing.width,\n",
    "    }\n",
    "    return sample"
   ]
  },
  {
   "cell_type": "code",
   "execution_count": 5,
   "metadata": {},
   "outputs": [],
   "source": [
    "def parse_parcel(py):\n",
    "    \"\"\"Parse the Polygon/MultiPolygon objects from shp files\"\"\"\n",
    "    if isinstance(py, Polygon):\n",
    "        bound = list(zip(*py.exterior.coords.xy))\n",
    "        holes = [list(zip(*hole.coords.xy)) for hole in py.interiors]\n",
    "        #return bound, holes\n",
    "        return [bound]\n",
    "    elif isinstance(py, MultiPolygon):\n",
    "        parts = [parse_parcel(part) for part in py.geoms]\n",
    "        return [x for y in parts for x in y]\n",
    "    else:\n",
    "        print('bad shape type:', type(py))\n",
    "\n",
    "def parse_building(py):\n",
    "    return parse_parcel(py)\n",
    "    \n",
    "def bbox(pts):\n",
    "    \"\"\"Find the AABB bounding box for a set of points\"\"\"\n",
    "    x, y = pts[0]\n",
    "    ax, ay, bx, by = x, y, x, y\n",
    "    for i in range(1, len(pts)):\n",
    "        x, y = pts[i]\n",
    "        ax = x if x < ax else ax\n",
    "        ay = y if y < ay else ay\n",
    "        bx = x if x > bx else bx\n",
    "        by = y if y > by else by\n",
    "    return ax, ay, bx, by\n",
    "\n",
    "def to_first_quadrant(parcel, building):\n",
    "    \"\"\"Translate parcel and building to the first quadrant\"\"\"\n",
    "    pts = [p for part in (parcel + building) for p in part]\n",
    "    ax, ay, bx, by = bbox(pts)\n",
    "    height, width = (bx - ax), (by - ay)\n",
    "    parcel = [[(x - ax, y - ay) for x, y in part] for part in parcel]\n",
    "    building = [[(x - ax, y - ay) for x, y in part] for part in building]\n",
    "    return parcel, building, height, width\n",
    "\n",
    "def parse_GIS_bostonbuildings_2016(path):\n",
    "    \"\"\"Parser for 2016 boston buildings GIS data:\n",
    "        https://www.arcgis.com/home/item.html?id=c423eda7a64b49c98a9ebdf5a6b7e135\n",
    "        https://data.boston.gov/dataset/parcels-2016-data-full/resource/d53d8e93-034d-4dd0-b59f-8634f4df3a71    \n",
    "    \"\"\"\n",
    "    # read in GIS data via geopandas\n",
    "    parcels = os.path.join(path, 'Parcels_2016_Data_Full.shp')\n",
    "    print(f'Reading parcel data: {parcels}')\n",
    "    parcels = gpd.read_file(parcels)\n",
    "    buildings = os.path.join(path, 'boston_buildings.shp')\n",
    "    print(f'Reading footprint data: {buildings}')\n",
    "    buildings = gpd.read_file(buildings)\n",
    "    # reproject buildings using parcels' CRS\n",
    "    epsg = parcels.crs.to_epsg()\n",
    "    print(f'Reprojecting footprint data to EPSG: {epsg}')\n",
    "    buildings['geometry'] = buildings['geometry'].to_crs(epsg=epsg)\n",
    "    buildings.crs = from_epsg(epsg)\n",
    "    # create samples of complete pairs of parcel/building outlines\n",
    "    pidlookup = {row.PID: j for j, row in parcels.iterrows()}\n",
    "    samples = []\n",
    "    for j, row in tqdm(buildings.iterrows(), desc='Preparing parcel/footprint data'):\n",
    "        if row.PARCEL_ID in pidlookup:\n",
    "            parcel = parse_parcel(parcels.iloc[pidlookup[row.PARCEL_ID]].geometry)\n",
    "            building = parse_parcel(row.geometry)\n",
    "            parcel, building, height, width = to_first_quadrant(parcel, building)\n",
    "            sample = {\n",
    "                'byclass': {\n",
    "                    'parcel': parcel,\n",
    "                    'building': building,\n",
    "                },\n",
    "                'height': height,\n",
    "                'width': width,\n",
    "            }\n",
    "            samples.append(sample)\n",
    "    return samples"
   ]
  },
  {
   "cell_type": "code",
   "execution_count": 6,
   "metadata": {},
   "outputs": [],
   "source": [
    "class ParcelInputLayer(Layer):\n",
    "    \n",
    "    labels = dict([\n",
    "        ('parcel', 5),\n",
    "    ])\n",
    "\n",
    "    def parcel_mask(self, byclass, height, width):\n",
    "        margin = 0.1 * max(height, width)\n",
    "        parcel = {'parcel': byclass['parcel']}\n",
    "        mask = self.mask(parcel, height, width, margin=margin)\n",
    "        # erode so that footprints are better contained by parcels on average...\n",
    "        kernel = np.ones((3, 3), np.uint8)\n",
    "        layer = cv2.erode(mask, kernel, iterations=3)\n",
    "        layer = self.norm_mask(layer)\n",
    "        return self.norm_mask(layer)\n",
    "    \n",
    "    def __call__(self, byclass, height, width):\n",
    "        layer = self.parcel_mask(byclass, height, width)\n",
    "        layer = layer.max() - layer\n",
    "        return layer\n",
    "\n",
    "class ParcelOutputLayer(ParcelInputLayer):\n",
    "    \n",
    "    labels = dict([\n",
    "        ('parcel', 5),\n",
    "        ('building', 3),\n",
    "    ])\n",
    "\n",
    "    def __call__(self, byclass, height, width):\n",
    "        layer = self.parcel_mask(byclass, height, width)\n",
    "        layer = layer.max() - layer\n",
    "        # blend in building footprints\n",
    "        for cls, label in self.labels.items():\n",
    "            for py in byclass[cls]:\n",
    "                \n",
    "                ## determine if a dilated mask of py intersects the mask\n",
    "                ## which implies its a feature on the boundary of the footprint\n",
    "                margin = 0.1 * max(height, width) # ugh that this is in 2 places...\n",
    "                pymask = self.mask({cls: [py]}, height, width, margin=margin)\n",
    "\n",
    "                kernel = np.ones((3, 3), np.uint8) \n",
    "                pymask = cv2.erode(pymask.copy(), kernel, iterations=3)\n",
    "\n",
    "                weight = (pymask == 0).astype(int)\n",
    "                layer = weight * label + (1 - weight) * layer\n",
    "        return layer"
   ]
  },
  {
   "cell_type": "code",
   "execution_count": 9,
   "metadata": {},
   "outputs": [
    {
     "name": "stdout",
     "output_type": "stream",
     "text": [
      "Reading parcel data: datasets/boston_buildings/2016/Parcels_2016_Data_Full.shp\n",
      "Reading footprint data: datasets/boston_buildings/2016/boston_buildings.shp\n",
      "Reprojecting footprint data to EPSG: 3857\n"
     ]
    },
    {
     "data": {
      "application/vnd.jupyter.widget-view+json": {
       "model_id": "d6cdcbe672ce4db482ca8268bec28c00",
       "version_major": 2,
       "version_minor": 0
      },
      "text/plain": [
       "HBox(children=(IntProgress(value=1, bar_style='info', description='Preparing parcel/footprint data', max=1, st…"
      ]
     },
     "metadata": {},
     "output_type": "display_data"
    },
    {
     "name": "stdout",
     "output_type": "stream",
     "text": [
      "\n",
      "N: 100\n"
     ]
    },
    {
     "data": {
      "application/vnd.jupyter.widget-view+json": {
       "model_id": "55c0465d394845e7b91d8dd1dff0890e",
       "version_major": 2,
       "version_minor": 0
      },
      "text/plain": [
       "HBox(children=(IntProgress(value=0, description='ParcelInputLayer', style=ProgressStyle(description_width='ini…"
      ]
     },
     "metadata": {},
     "output_type": "display_data"
    },
    {
     "name": "stdout",
     "output_type": "stream",
     "text": [
      "\n"
     ]
    },
    {
     "data": {
      "application/vnd.jupyter.widget-view+json": {
       "model_id": "f44d32208e3a462c96106c2370406d26",
       "version_major": 2,
       "version_minor": 0
      },
      "text/plain": [
       "HBox(children=(IntProgress(value=0, description='ParcelOutputLayer', style=ProgressStyle(description_width='in…"
      ]
     },
     "metadata": {},
     "output_type": "display_data"
    },
    {
     "name": "stdout",
     "output_type": "stream",
     "text": [
      "\n"
     ]
    }
   ],
   "source": [
    "path = 'datasets/boston_buildings/2016'\n",
    "parsed = parse_GIS_bostonbuildings_2016(path)\n",
    "parsed = {f'boston_{j}': sample for j, sample in enumerate(parsed[:100])}\n",
    "directory = './tmp4/'\n",
    "\n",
    "print('N:', len(parsed))\n",
    "\n",
    "ParcelInputLayer.samples_to_imgs(parsed, directory)\n",
    "ParcelOutputLayer.samples_to_imgs(parsed, directory)"
   ]
  },
  {
   "cell_type": "code",
   "execution_count": 10,
   "metadata": {},
   "outputs": [
    {
     "name": "stdout",
     "output_type": "stream",
     "text": [
      "/home/cogle/dev/mine/archigan\r\n"
     ]
    }
   ],
   "source": [
    "!pwd"
   ]
  },
  {
   "cell_type": "code",
   "execution_count": 7,
   "metadata": {},
   "outputs": [
    {
     "data": {
      "text/html": [
       "<div>\n",
       "<style scoped>\n",
       "    .dataframe tbody tr th:only-of-type {\n",
       "        vertical-align: middle;\n",
       "    }\n",
       "\n",
       "    .dataframe tbody tr th {\n",
       "        vertical-align: top;\n",
       "    }\n",
       "\n",
       "    .dataframe thead th {\n",
       "        text-align: right;\n",
       "    }\n",
       "</style>\n",
       "<table border=\"1\" class=\"dataframe\">\n",
       "  <thead>\n",
       "    <tr style=\"text-align: right;\">\n",
       "      <th></th>\n",
       "      <th>OBJECTID</th>\n",
       "      <th>SEGMENT_ID</th>\n",
       "      <th>L_F_ADD</th>\n",
       "      <th>L_T_ADD</th>\n",
       "      <th>R_F_ADD</th>\n",
       "      <th>R_T_ADD</th>\n",
       "      <th>PRE_DIR</th>\n",
       "      <th>ST_NAME</th>\n",
       "      <th>ST_TYPE</th>\n",
       "      <th>SUF_DIR</th>\n",
       "      <th>...</th>\n",
       "      <th>PLACE00_R</th>\n",
       "      <th>TRACT00_L</th>\n",
       "      <th>TRACT00_R</th>\n",
       "      <th>BLOCK00_L</th>\n",
       "      <th>BLOCK00_R</th>\n",
       "      <th>MCD00_L</th>\n",
       "      <th>MCD00_R</th>\n",
       "      <th>STREET_ID</th>\n",
       "      <th>SHAPElen</th>\n",
       "      <th>geometry</th>\n",
       "    </tr>\n",
       "  </thead>\n",
       "  <tbody>\n",
       "    <tr>\n",
       "      <th>0</th>\n",
       "      <td>1</td>\n",
       "      <td>1.0</td>\n",
       "      <td>12</td>\n",
       "      <td>22</td>\n",
       "      <td>13</td>\n",
       "      <td>29</td>\n",
       "      <td>None</td>\n",
       "      <td>A</td>\n",
       "      <td>ST</td>\n",
       "      <td>None</td>\n",
       "      <td>...</td>\n",
       "      <td>07000</td>\n",
       "      <td>02127</td>\n",
       "      <td>02127</td>\n",
       "      <td>None</td>\n",
       "      <td>None</td>\n",
       "      <td>07000</td>\n",
       "      <td>07000</td>\n",
       "      <td>2.0</td>\n",
       "      <td>166.673187</td>\n",
       "      <td>LINESTRING (776005.375 2949518.000, 776115.625...</td>\n",
       "    </tr>\n",
       "    <tr>\n",
       "      <th>1</th>\n",
       "      <td>2</td>\n",
       "      <td>2.0</td>\n",
       "      <td>24</td>\n",
       "      <td>42</td>\n",
       "      <td>31</td>\n",
       "      <td>43</td>\n",
       "      <td>None</td>\n",
       "      <td>A</td>\n",
       "      <td>ST</td>\n",
       "      <td>None</td>\n",
       "      <td>...</td>\n",
       "      <td>07000</td>\n",
       "      <td>02127</td>\n",
       "      <td>02127</td>\n",
       "      <td>None</td>\n",
       "      <td>None</td>\n",
       "      <td>07000</td>\n",
       "      <td>07000</td>\n",
       "      <td>2.0</td>\n",
       "      <td>162.142997</td>\n",
       "      <td>LINESTRING (776115.625 2949643.000, 776219.501...</td>\n",
       "    </tr>\n",
       "    <tr>\n",
       "      <th>2</th>\n",
       "      <td>3</td>\n",
       "      <td>3.0</td>\n",
       "      <td>44</td>\n",
       "      <td>64</td>\n",
       "      <td>45</td>\n",
       "      <td>67</td>\n",
       "      <td>None</td>\n",
       "      <td>A</td>\n",
       "      <td>ST</td>\n",
       "      <td>None</td>\n",
       "      <td>...</td>\n",
       "      <td>07000</td>\n",
       "      <td>02127</td>\n",
       "      <td>02127</td>\n",
       "      <td>None</td>\n",
       "      <td>None</td>\n",
       "      <td>07000</td>\n",
       "      <td>07000</td>\n",
       "      <td>2.0</td>\n",
       "      <td>178.522006</td>\n",
       "      <td>LINESTRING (776219.501 2949767.499, 776336.312...</td>\n",
       "    </tr>\n",
       "    <tr>\n",
       "      <th>3</th>\n",
       "      <td>4</td>\n",
       "      <td>4.0</td>\n",
       "      <td>66</td>\n",
       "      <td>72</td>\n",
       "      <td>69</td>\n",
       "      <td>71</td>\n",
       "      <td>None</td>\n",
       "      <td>A</td>\n",
       "      <td>ST</td>\n",
       "      <td>None</td>\n",
       "      <td>...</td>\n",
       "      <td>07000</td>\n",
       "      <td>02127</td>\n",
       "      <td>02127</td>\n",
       "      <td>None</td>\n",
       "      <td>None</td>\n",
       "      <td>07000</td>\n",
       "      <td>07000</td>\n",
       "      <td>2.0</td>\n",
       "      <td>196.841018</td>\n",
       "      <td>LINESTRING (776336.312 2949902.500, 776466.375...</td>\n",
       "    </tr>\n",
       "    <tr>\n",
       "      <th>4</th>\n",
       "      <td>5</td>\n",
       "      <td>5.0</td>\n",
       "      <td>74</td>\n",
       "      <td>90</td>\n",
       "      <td>73</td>\n",
       "      <td>87</td>\n",
       "      <td>None</td>\n",
       "      <td>A</td>\n",
       "      <td>ST</td>\n",
       "      <td>None</td>\n",
       "      <td>...</td>\n",
       "      <td>07000</td>\n",
       "      <td>02127</td>\n",
       "      <td>02127</td>\n",
       "      <td>None</td>\n",
       "      <td>None</td>\n",
       "      <td>07000</td>\n",
       "      <td>07000</td>\n",
       "      <td>2.0</td>\n",
       "      <td>179.277949</td>\n",
       "      <td>LINESTRING (776466.375 2950050.250, 776584.622...</td>\n",
       "    </tr>\n",
       "  </tbody>\n",
       "</table>\n",
       "<p>5 rows × 43 columns</p>\n",
       "</div>"
      ],
      "text/plain": [
       "   OBJECTID  SEGMENT_ID L_F_ADD L_T_ADD R_F_ADD R_T_ADD PRE_DIR ST_NAME  \\\n",
       "0         1         1.0      12      22      13      29    None       A   \n",
       "1         2         2.0      24      42      31      43    None       A   \n",
       "2         3         3.0      44      64      45      67    None       A   \n",
       "3         4         4.0      66      72      69      71    None       A   \n",
       "4         5         5.0      74      90      73      87    None       A   \n",
       "\n",
       "  ST_TYPE SUF_DIR  ... PLACE00_R TRACT00_L TRACT00_R  BLOCK00_L BLOCK00_R  \\\n",
       "0      ST    None  ...     07000     02127     02127       None      None   \n",
       "1      ST    None  ...     07000     02127     02127       None      None   \n",
       "2      ST    None  ...     07000     02127     02127       None      None   \n",
       "3      ST    None  ...     07000     02127     02127       None      None   \n",
       "4      ST    None  ...     07000     02127     02127       None      None   \n",
       "\n",
       "  MCD00_L MCD00_R STREET_ID    SHAPElen  \\\n",
       "0   07000   07000       2.0  166.673187   \n",
       "1   07000   07000       2.0  162.142997   \n",
       "2   07000   07000       2.0  178.522006   \n",
       "3   07000   07000       2.0  196.841018   \n",
       "4   07000   07000       2.0  179.277949   \n",
       "\n",
       "                                            geometry  \n",
       "0  LINESTRING (776005.375 2949518.000, 776115.625...  \n",
       "1  LINESTRING (776115.625 2949643.000, 776219.501...  \n",
       "2  LINESTRING (776219.501 2949767.499, 776336.312...  \n",
       "3  LINESTRING (776336.312 2949902.500, 776466.375...  \n",
       "4  LINESTRING (776466.375 2950050.250, 776584.622...  \n",
       "\n",
       "[5 rows x 43 columns]"
      ]
     },
     "execution_count": 7,
     "metadata": {},
     "output_type": "execute_result"
    }
   ],
   "source": [
    "import geopandas as gpd\n",
    "\n",
    "df = gpd.read_file('datasets/boston_streets/Boston_Street_Segments.shp')\n",
    "df.head()"
   ]
  },
  {
   "cell_type": "code",
   "execution_count": null,
   "metadata": {},
   "outputs": [],
   "source": []
  }
 ],
 "metadata": {
  "kernelspec": {
   "display_name": "Python 3",
   "language": "python",
   "name": "python3"
  },
  "language_info": {
   "codemirror_mode": {
    "name": "ipython",
    "version": 3
   },
   "file_extension": ".py",
   "mimetype": "text/x-python",
   "name": "python",
   "nbconvert_exporter": "python",
   "pygments_lexer": "ipython3",
   "version": "3.7.1"
  }
 },
 "nbformat": 4,
 "nbformat_minor": 2
}
