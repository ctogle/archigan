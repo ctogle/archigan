{
 "cells": [
  {
   "cell_type": "code",
   "execution_count": 1,
   "metadata": {},
   "outputs": [],
   "source": [
    "#%matplotlib notebook\n",
    "import glob\n",
    "#import io\n",
    "import os\n",
    "import cv2\n",
    "import geopandas as gpd\n",
    "from shapely.geometry import Polygon, MultiPolygon\n",
    "from svglib.svglib import svg2rlg\n",
    "from collections import defaultdict\n",
    "from fiona.crs import from_epsg\n",
    "#from tqdm import tqdm\n",
    "from tqdm import tqdm_notebook as tqdm\n",
    "import numpy as np\n",
    "\n",
    "from archigan.datalayer import Layer\n",
    "from archigan.pipeline import ArchiPipeline\n",
    "from archigan.boston import ParcelInputLayer, ParcelOutputLayer, parse_GIS_bostonbuildings_2016\n",
    "from archigan.cvc_fp import FootprintInputLayer, RepartitionInputLayer, RepartitionOutputLayer, parse_CVC_FP_svg"
   ]
  },
  {
   "cell_type": "code",
   "execution_count": null,
   "metadata": {},
   "outputs": [
    {
     "name": "stdout",
     "output_type": "stream",
     "text": [
      "Reading parcel data: datasets/boston_buildings/2016/Parcels_2016_Data_Full.shp\n",
      "Reading footprint data: datasets/boston_buildings/2016/boston_buildings.shp\n"
     ]
    }
   ],
   "source": [
    "path = 'datasets/boston_buildings/2016'\n",
    "x, y = 400, 1000\n",
    "parsed = parse_GIS_bostonbuildings_2016(path)\n",
    "parsed = {f'boston_{(j + x):04d}': sample for j, sample in enumerate(parsed[x:y])}\n",
    "\n",
    "directory = './tmp/'\n",
    "\n",
    "print('N:', len(parsed))\n",
    "\n",
    "ParcelInputLayer.samples_to_imgs(parsed, directory)\n",
    "ParcelOutputLayer.samples_to_imgs(parsed, directory)"
   ]
  },
  {
   "cell_type": "code",
   "execution_count": 3,
   "metadata": {
    "scrolled": false
   },
   "outputs": [
    {
     "data": {
      "application/vnd.jupyter.widget-view+json": {
       "model_id": "7d1b4494608744578b73564691328605",
       "version_major": 2,
       "version_minor": 0
      },
      "text/plain": [
       "HBox(children=(IntProgress(value=0, description='FootprintInputLayer', max=122, style=ProgressStyle(descriptio…"
      ]
     },
     "metadata": {},
     "output_type": "display_data"
    },
    {
     "name": "stdout",
     "output_type": "stream",
     "text": [
      "\n"
     ]
    },
    {
     "data": {
      "application/vnd.jupyter.widget-view+json": {
       "model_id": "dff6bf314ce745c3aa2f8d92f08609aa",
       "version_major": 2,
       "version_minor": 0
      },
      "text/plain": [
       "HBox(children=(IntProgress(value=0, description='RepartitionInputLayer', max=122, style=ProgressStyle(descript…"
      ]
     },
     "metadata": {},
     "output_type": "display_data"
    },
    {
     "name": "stdout",
     "output_type": "stream",
     "text": [
      "\n"
     ]
    },
    {
     "data": {
      "application/vnd.jupyter.widget-view+json": {
       "model_id": "a26278564eca4489b6b678195139e112",
       "version_major": 2,
       "version_minor": 0
      },
      "text/plain": [
       "HBox(children=(IntProgress(value=0, description='RepartitionOutputLayer', max=122, style=ProgressStyle(descrip…"
      ]
     },
     "metadata": {},
     "output_type": "display_data"
    },
    {
     "name": "stdout",
     "output_type": "stream",
     "text": [
      "\n"
     ]
    }
   ],
   "source": [
    "svgs = glob.glob('datasets/ImagesGT/*.svg')\n",
    "classes = (\n",
    "    'Door',\n",
    "    'Window',\n",
    "    'Room',\n",
    "    'Wall',\n",
    "    'Separation',\n",
    "    'Parking',\n",
    ")\n",
    "parsed = {svg: parse_CVC_FP_svg(svg, classes) for svg in svgs}\n",
    "directory = './tmp/'\n",
    "\n",
    "FootprintInputLayer.samples_to_imgs(parsed, directory)\n",
    "RepartitionInputLayer.samples_to_imgs(parsed, directory)\n",
    "RepartitionOutputLayer.samples_to_imgs(parsed, directory)"
   ]
  },
  {
   "cell_type": "code",
   "execution_count": 9,
   "metadata": {},
   "outputs": [
    {
     "name": "stdout",
     "output_type": "stream",
     "text": [
      "['./tmp/ParcelInputLayer', './tmp/ParcelOutputLayer', './tmp/FootprintInputLayer', './tmp/RepartitionInputLayer', './tmp/RepartitionOutputLayer'] [(0, 1), (2, 3), (3, 4)] ./prepared/parcel2floorplan_3stage\n"
     ]
    }
   ],
   "source": [
    "stages = (\n",
    "    'ParcelInputLayer',\n",
    "    'ParcelOutputLayer',\n",
    "    'FootprintInputLayer',\n",
    "    'RepartitionInputLayer',\n",
    "    'RepartitionOutputLayer',\n",
    ")\n",
    "layers = [os.path.join('./tmp', layer) for layer in stages]\n",
    "stages = [(j - 1, j) for j in range(1, len(layers))]\n",
    "stages.pop(1)\n",
    "directory = './prepared/parcel2floorplan_3stage'\n",
    "\n",
    "print(layers, stages, directory)\n",
    "pipeline = ArchiPipeline(layers, stages)"
   ]
  },
  {
   "cell_type": "code",
   "execution_count": 6,
   "metadata": {},
   "outputs": [],
   "source": [
    "os.makedirs('./prepared/parcel2floorplan_3stage')"
   ]
  },
  {
   "cell_type": "code",
   "execution_count": 10,
   "metadata": {},
   "outputs": [
    {
     "name": "stderr",
     "output_type": "stream",
     "text": [
      "88 samples in train: 100%|██████████| 100/100 [00:00<00:00, 208.05it/s]\n",
      "108 samples in train: 100%|██████████| 122/122 [00:00<00:00, 238.05it/s]\n",
      "108 samples in train: 100%|██████████| 122/122 [00:00<00:00, 203.61it/s]\n"
     ]
    }
   ],
   "source": [
    "pipeline.setup_training(directory)"
   ]
  },
  {
   "cell_type": "code",
   "execution_count": 7,
   "metadata": {},
   "outputs": [
    {
     "data": {
      "text/html": [
       "<div>\n",
       "<style scoped>\n",
       "    .dataframe tbody tr th:only-of-type {\n",
       "        vertical-align: middle;\n",
       "    }\n",
       "\n",
       "    .dataframe tbody tr th {\n",
       "        vertical-align: top;\n",
       "    }\n",
       "\n",
       "    .dataframe thead th {\n",
       "        text-align: right;\n",
       "    }\n",
       "</style>\n",
       "<table border=\"1\" class=\"dataframe\">\n",
       "  <thead>\n",
       "    <tr style=\"text-align: right;\">\n",
       "      <th></th>\n",
       "      <th>OBJECTID</th>\n",
       "      <th>SEGMENT_ID</th>\n",
       "      <th>L_F_ADD</th>\n",
       "      <th>L_T_ADD</th>\n",
       "      <th>R_F_ADD</th>\n",
       "      <th>R_T_ADD</th>\n",
       "      <th>PRE_DIR</th>\n",
       "      <th>ST_NAME</th>\n",
       "      <th>ST_TYPE</th>\n",
       "      <th>SUF_DIR</th>\n",
       "      <th>...</th>\n",
       "      <th>PLACE00_R</th>\n",
       "      <th>TRACT00_L</th>\n",
       "      <th>TRACT00_R</th>\n",
       "      <th>BLOCK00_L</th>\n",
       "      <th>BLOCK00_R</th>\n",
       "      <th>MCD00_L</th>\n",
       "      <th>MCD00_R</th>\n",
       "      <th>STREET_ID</th>\n",
       "      <th>SHAPElen</th>\n",
       "      <th>geometry</th>\n",
       "    </tr>\n",
       "  </thead>\n",
       "  <tbody>\n",
       "    <tr>\n",
       "      <th>0</th>\n",
       "      <td>1</td>\n",
       "      <td>1.0</td>\n",
       "      <td>12</td>\n",
       "      <td>22</td>\n",
       "      <td>13</td>\n",
       "      <td>29</td>\n",
       "      <td>None</td>\n",
       "      <td>A</td>\n",
       "      <td>ST</td>\n",
       "      <td>None</td>\n",
       "      <td>...</td>\n",
       "      <td>07000</td>\n",
       "      <td>02127</td>\n",
       "      <td>02127</td>\n",
       "      <td>None</td>\n",
       "      <td>None</td>\n",
       "      <td>07000</td>\n",
       "      <td>07000</td>\n",
       "      <td>2.0</td>\n",
       "      <td>166.673187</td>\n",
       "      <td>LINESTRING (776005.375 2949518.000, 776115.625...</td>\n",
       "    </tr>\n",
       "    <tr>\n",
       "      <th>1</th>\n",
       "      <td>2</td>\n",
       "      <td>2.0</td>\n",
       "      <td>24</td>\n",
       "      <td>42</td>\n",
       "      <td>31</td>\n",
       "      <td>43</td>\n",
       "      <td>None</td>\n",
       "      <td>A</td>\n",
       "      <td>ST</td>\n",
       "      <td>None</td>\n",
       "      <td>...</td>\n",
       "      <td>07000</td>\n",
       "      <td>02127</td>\n",
       "      <td>02127</td>\n",
       "      <td>None</td>\n",
       "      <td>None</td>\n",
       "      <td>07000</td>\n",
       "      <td>07000</td>\n",
       "      <td>2.0</td>\n",
       "      <td>162.142997</td>\n",
       "      <td>LINESTRING (776115.625 2949643.000, 776219.501...</td>\n",
       "    </tr>\n",
       "    <tr>\n",
       "      <th>2</th>\n",
       "      <td>3</td>\n",
       "      <td>3.0</td>\n",
       "      <td>44</td>\n",
       "      <td>64</td>\n",
       "      <td>45</td>\n",
       "      <td>67</td>\n",
       "      <td>None</td>\n",
       "      <td>A</td>\n",
       "      <td>ST</td>\n",
       "      <td>None</td>\n",
       "      <td>...</td>\n",
       "      <td>07000</td>\n",
       "      <td>02127</td>\n",
       "      <td>02127</td>\n",
       "      <td>None</td>\n",
       "      <td>None</td>\n",
       "      <td>07000</td>\n",
       "      <td>07000</td>\n",
       "      <td>2.0</td>\n",
       "      <td>178.522006</td>\n",
       "      <td>LINESTRING (776219.501 2949767.499, 776336.312...</td>\n",
       "    </tr>\n",
       "    <tr>\n",
       "      <th>3</th>\n",
       "      <td>4</td>\n",
       "      <td>4.0</td>\n",
       "      <td>66</td>\n",
       "      <td>72</td>\n",
       "      <td>69</td>\n",
       "      <td>71</td>\n",
       "      <td>None</td>\n",
       "      <td>A</td>\n",
       "      <td>ST</td>\n",
       "      <td>None</td>\n",
       "      <td>...</td>\n",
       "      <td>07000</td>\n",
       "      <td>02127</td>\n",
       "      <td>02127</td>\n",
       "      <td>None</td>\n",
       "      <td>None</td>\n",
       "      <td>07000</td>\n",
       "      <td>07000</td>\n",
       "      <td>2.0</td>\n",
       "      <td>196.841018</td>\n",
       "      <td>LINESTRING (776336.312 2949902.500, 776466.375...</td>\n",
       "    </tr>\n",
       "    <tr>\n",
       "      <th>4</th>\n",
       "      <td>5</td>\n",
       "      <td>5.0</td>\n",
       "      <td>74</td>\n",
       "      <td>90</td>\n",
       "      <td>73</td>\n",
       "      <td>87</td>\n",
       "      <td>None</td>\n",
       "      <td>A</td>\n",
       "      <td>ST</td>\n",
       "      <td>None</td>\n",
       "      <td>...</td>\n",
       "      <td>07000</td>\n",
       "      <td>02127</td>\n",
       "      <td>02127</td>\n",
       "      <td>None</td>\n",
       "      <td>None</td>\n",
       "      <td>07000</td>\n",
       "      <td>07000</td>\n",
       "      <td>2.0</td>\n",
       "      <td>179.277949</td>\n",
       "      <td>LINESTRING (776466.375 2950050.250, 776584.622...</td>\n",
       "    </tr>\n",
       "  </tbody>\n",
       "</table>\n",
       "<p>5 rows × 43 columns</p>\n",
       "</div>"
      ],
      "text/plain": [
       "   OBJECTID  SEGMENT_ID L_F_ADD L_T_ADD R_F_ADD R_T_ADD PRE_DIR ST_NAME  \\\n",
       "0         1         1.0      12      22      13      29    None       A   \n",
       "1         2         2.0      24      42      31      43    None       A   \n",
       "2         3         3.0      44      64      45      67    None       A   \n",
       "3         4         4.0      66      72      69      71    None       A   \n",
       "4         5         5.0      74      90      73      87    None       A   \n",
       "\n",
       "  ST_TYPE SUF_DIR  ... PLACE00_R TRACT00_L TRACT00_R  BLOCK00_L BLOCK00_R  \\\n",
       "0      ST    None  ...     07000     02127     02127       None      None   \n",
       "1      ST    None  ...     07000     02127     02127       None      None   \n",
       "2      ST    None  ...     07000     02127     02127       None      None   \n",
       "3      ST    None  ...     07000     02127     02127       None      None   \n",
       "4      ST    None  ...     07000     02127     02127       None      None   \n",
       "\n",
       "  MCD00_L MCD00_R STREET_ID    SHAPElen  \\\n",
       "0   07000   07000       2.0  166.673187   \n",
       "1   07000   07000       2.0  162.142997   \n",
       "2   07000   07000       2.0  178.522006   \n",
       "3   07000   07000       2.0  196.841018   \n",
       "4   07000   07000       2.0  179.277949   \n",
       "\n",
       "                                            geometry  \n",
       "0  LINESTRING (776005.375 2949518.000, 776115.625...  \n",
       "1  LINESTRING (776115.625 2949643.000, 776219.501...  \n",
       "2  LINESTRING (776219.501 2949767.499, 776336.312...  \n",
       "3  LINESTRING (776336.312 2949902.500, 776466.375...  \n",
       "4  LINESTRING (776466.375 2950050.250, 776584.622...  \n",
       "\n",
       "[5 rows x 43 columns]"
      ]
     },
     "execution_count": 7,
     "metadata": {},
     "output_type": "execute_result"
    }
   ],
   "source": [
    "import geopandas as gpd\n",
    "\n",
    "df = gpd.read_file('datasets/boston_streets/Boston_Street_Segments.shp')\n",
    "df.head()"
   ]
  },
  {
   "cell_type": "code",
   "execution_count": null,
   "metadata": {},
   "outputs": [],
   "source": []
  }
 ],
 "metadata": {
  "kernelspec": {
   "display_name": "Python 3",
   "language": "python",
   "name": "python3"
  },
  "language_info": {
   "codemirror_mode": {
    "name": "ipython",
    "version": 3
   },
   "file_extension": ".py",
   "mimetype": "text/x-python",
   "name": "python",
   "nbconvert_exporter": "python",
   "pygments_lexer": "ipython3",
   "version": "3.7.1"
  }
 },
 "nbformat": 4,
 "nbformat_minor": 2
}
