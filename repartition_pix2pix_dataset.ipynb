{
 "cells": [
  {
   "cell_type": "code",
   "execution_count": 6,
   "metadata": {},
   "outputs": [],
   "source": [
    "#%matplotlib notebook\n",
    "import glob\n",
    "import io\n",
    "import os\n",
    "import cv2\n",
    "from svglib.svglib import svg2rlg\n",
    "from collections import defaultdict\n",
    "#from tqdm import tqdm\n",
    "from tqdm import tqdm_notebook as tqdm\n",
    "import numpy as np\n",
    "#import matplotlib; matplotlib.use('agg')\n",
    "import matplotlib.pyplot as plt\n",
    "from matplotlib.figure import Figure\n",
    "from matplotlib.backends.backend_agg import FigureCanvas"
   ]
  },
  {
   "cell_type": "code",
   "execution_count": 7,
   "metadata": {},
   "outputs": [],
   "source": [
    "def parse_CVC_FP_svg(path, classes):\n",
    "    \"\"\"Parser for SVGs form the CVC-FP dataset:\n",
    "        http://dag.cvc.uab.es/resources/floorplans/\n",
    "    \"\"\"\n",
    "    drawing = svg2rlg(path)\n",
    "    byclass = defaultdict(list)\n",
    "    for cls in classes:\n",
    "        for py in drawing.contents[0].contents:\n",
    "            if py._class == cls:\n",
    "                loop = list(zip(py.points[::2], py.points[1::2]))\n",
    "                byclass[py._class].append(loop)\n",
    "    return byclass, drawing.height, drawing.width"
   ]
  },
  {
   "cell_type": "code",
   "execution_count": 15,
   "metadata": {},
   "outputs": [],
   "source": [
    "df = gpd.read_file('boston_buildings/boston_buildings.shp')"
   ]
  },
  {
   "cell_type": "code",
   "execution_count": 16,
   "metadata": {},
   "outputs": [
    {
     "data": {
      "text/html": [
       "<div>\n",
       "<style scoped>\n",
       "    .dataframe tbody tr th:only-of-type {\n",
       "        vertical-align: middle;\n",
       "    }\n",
       "\n",
       "    .dataframe tbody tr th {\n",
       "        vertical-align: top;\n",
       "    }\n",
       "\n",
       "    .dataframe thead th {\n",
       "        text-align: right;\n",
       "    }\n",
       "</style>\n",
       "<table border=\"1\" class=\"dataframe\">\n",
       "  <thead>\n",
       "    <tr style=\"text-align: right;\">\n",
       "      <th></th>\n",
       "      <th>BUILDING_I</th>\n",
       "      <th>PARCEL_ID</th>\n",
       "      <th>ADDRESS_ID</th>\n",
       "      <th>PART_ADDRE</th>\n",
       "      <th>PART_ID</th>\n",
       "      <th>PART_USE</th>\n",
       "      <th>PART_BRA_U</th>\n",
       "      <th>PART_CONTA</th>\n",
       "      <th>PART_STATU</th>\n",
       "      <th>PART_VIEW</th>\n",
       "      <th>...</th>\n",
       "      <th>BUILDING_H</th>\n",
       "      <th>IEL_TYPE</th>\n",
       "      <th>BASE_ELEVA</th>\n",
       "      <th>ELEVATION_</th>\n",
       "      <th>TOP_SEA_LE</th>\n",
       "      <th>ELEVATION1</th>\n",
       "      <th>TOP_GROUND</th>\n",
       "      <th>Shape_area</th>\n",
       "      <th>Shape_len</th>\n",
       "      <th>geometry</th>\n",
       "    </tr>\n",
       "  </thead>\n",
       "  <tbody>\n",
       "    <tr>\n",
       "      <th>0</th>\n",
       "      <td>Bos_2205632000_B0</td>\n",
       "      <td>2205632000</td>\n",
       "      <td>2205632000_A0</td>\n",
       "      <td>68 KENRICK ST, 02135</td>\n",
       "      <td>Bos_2205632000_B0_M0</td>\n",
       "      <td>R1</td>\n",
       "      <td>R1</td>\n",
       "      <td>MCNAMARA ROBERT O</td>\n",
       "      <td>BUILT</td>\n",
       "      <td>PUBLIC</td>\n",
       "      <td>...</td>\n",
       "      <td>16.890698</td>\n",
       "      <td>BLDG</td>\n",
       "      <td>55.365665</td>\n",
       "      <td>70.138047</td>\n",
       "      <td>74.846878</td>\n",
       "      <td>14.772382</td>\n",
       "      <td>19.481212</td>\n",
       "      <td>1161.397293</td>\n",
       "      <td>149.394841</td>\n",
       "      <td>POLYGON Z ((746591.271 2951419.399 69.207, 746...</td>\n",
       "    </tr>\n",
       "    <tr>\n",
       "      <th>1</th>\n",
       "      <td>Bos_2102861000_B1</td>\n",
       "      <td>2102861000</td>\n",
       "      <td>2102861000_A0</td>\n",
       "      <td>53 CHESTNUT HILL AV, 02135</td>\n",
       "      <td>Bos_2102861000_B1_M0</td>\n",
       "      <td>R2</td>\n",
       "      <td>R2</td>\n",
       "      <td>CUNNINGHAM JOHN J</td>\n",
       "      <td>BUILT</td>\n",
       "      <td>PUBLIC</td>\n",
       "      <td>...</td>\n",
       "      <td>36.756003</td>\n",
       "      <td>BLDG</td>\n",
       "      <td>129.925217</td>\n",
       "      <td>137.779148</td>\n",
       "      <td>146.070301</td>\n",
       "      <td>7.853931</td>\n",
       "      <td>16.145084</td>\n",
       "      <td>549.002100</td>\n",
       "      <td>96.663101</td>\n",
       "      <td>POLYGON Z ((749810.012 2951406.252 137.778, 74...</td>\n",
       "    </tr>\n",
       "    <tr>\n",
       "      <th>2</th>\n",
       "      <td>Bos_2204921000_B0</td>\n",
       "      <td>2204921000</td>\n",
       "      <td>2204921000_A0</td>\n",
       "      <td>97 ACADEMY HILL RD, 02135</td>\n",
       "      <td>Bos_2204921000_B0_M0</td>\n",
       "      <td>R2</td>\n",
       "      <td>R2</td>\n",
       "      <td>KEEFE EDWARD J</td>\n",
       "      <td>BUILT</td>\n",
       "      <td>PUBLIC</td>\n",
       "      <td>...</td>\n",
       "      <td>21.713000</td>\n",
       "      <td>BLDG</td>\n",
       "      <td>162.142441</td>\n",
       "      <td>184.654210</td>\n",
       "      <td>190.966186</td>\n",
       "      <td>22.511769</td>\n",
       "      <td>28.823745</td>\n",
       "      <td>1456.043245</td>\n",
       "      <td>181.859296</td>\n",
       "      <td>POLYGON Z ((749458.573 2951325.510 175.721, 74...</td>\n",
       "    </tr>\n",
       "    <tr>\n",
       "      <th>3</th>\n",
       "      <td>Bos_2102862000_B1</td>\n",
       "      <td>2102862000</td>\n",
       "      <td>2102862000_A0</td>\n",
       "      <td>55 CHESTNUT HILL AV, 02135</td>\n",
       "      <td>Bos_2102862000_B1_M0</td>\n",
       "      <td>R3</td>\n",
       "      <td>R3</td>\n",
       "      <td>CUNNINGHAM JOHN J</td>\n",
       "      <td>BUILT</td>\n",
       "      <td>PUBLIC</td>\n",
       "      <td>...</td>\n",
       "      <td>22.761005</td>\n",
       "      <td>BLDG</td>\n",
       "      <td>131.035858</td>\n",
       "      <td>152.578506</td>\n",
       "      <td>161.123235</td>\n",
       "      <td>21.542647</td>\n",
       "      <td>30.087377</td>\n",
       "      <td>982.054372</td>\n",
       "      <td>135.393057</td>\n",
       "      <td>POLYGON Z ((749791.436 2951364.987 144.628, 74...</td>\n",
       "    </tr>\n",
       "    <tr>\n",
       "      <th>4</th>\n",
       "      <td>Bos_2102870000_B0</td>\n",
       "      <td>2102870000</td>\n",
       "      <td>2102870000_A0</td>\n",
       "      <td>15 WM JACKSON AV, 02135</td>\n",
       "      <td>Bos_2102870000_B0_M0</td>\n",
       "      <td>R1</td>\n",
       "      <td>R1</td>\n",
       "      <td>YUNG JIN P</td>\n",
       "      <td>BUILT</td>\n",
       "      <td>PUBLIC</td>\n",
       "      <td>...</td>\n",
       "      <td>20.348997</td>\n",
       "      <td>BLDG</td>\n",
       "      <td>170.059418</td>\n",
       "      <td>184.541181</td>\n",
       "      <td>196.525357</td>\n",
       "      <td>14.481763</td>\n",
       "      <td>26.465939</td>\n",
       "      <td>1167.143115</td>\n",
       "      <td>149.400957</td>\n",
       "      <td>POLYGON Z ((749737.548 2951033.339 183.535, 74...</td>\n",
       "    </tr>\n",
       "  </tbody>\n",
       "</table>\n",
       "<p>5 rows × 29 columns</p>\n",
       "</div>"
      ],
      "text/plain": [
       "          BUILDING_I   PARCEL_ID     ADDRESS_ID                  PART_ADDRE  \\\n",
       "0  Bos_2205632000_B0  2205632000  2205632000_A0        68 KENRICK ST, 02135   \n",
       "1  Bos_2102861000_B1  2102861000  2102861000_A0  53 CHESTNUT HILL AV, 02135   \n",
       "2  Bos_2204921000_B0  2204921000  2204921000_A0   97 ACADEMY HILL RD, 02135   \n",
       "3  Bos_2102862000_B1  2102862000  2102862000_A0  55 CHESTNUT HILL AV, 02135   \n",
       "4  Bos_2102870000_B0  2102870000  2102870000_A0     15 WM JACKSON AV, 02135   \n",
       "\n",
       "                PART_ID PART_USE PART_BRA_U         PART_CONTA PART_STATU  \\\n",
       "0  Bos_2205632000_B0_M0       R1         R1  MCNAMARA ROBERT O      BUILT   \n",
       "1  Bos_2102861000_B1_M0       R2         R2  CUNNINGHAM JOHN J      BUILT   \n",
       "2  Bos_2204921000_B0_M0       R2         R2     KEEFE EDWARD J      BUILT   \n",
       "3  Bos_2102862000_B1_M0       R3         R3  CUNNINGHAM JOHN J      BUILT   \n",
       "4  Bos_2102870000_B0_M0       R1         R1         YUNG JIN P      BUILT   \n",
       "\n",
       "  PART_VIEW  ...  BUILDING_H  IEL_TYPE  BASE_ELEVA  ELEVATION_  TOP_SEA_LE  \\\n",
       "0    PUBLIC  ...   16.890698      BLDG   55.365665   70.138047   74.846878   \n",
       "1    PUBLIC  ...   36.756003      BLDG  129.925217  137.779148  146.070301   \n",
       "2    PUBLIC  ...   21.713000      BLDG  162.142441  184.654210  190.966186   \n",
       "3    PUBLIC  ...   22.761005      BLDG  131.035858  152.578506  161.123235   \n",
       "4    PUBLIC  ...   20.348997      BLDG  170.059418  184.541181  196.525357   \n",
       "\n",
       "   ELEVATION1  TOP_GROUND   Shape_area   Shape_len  \\\n",
       "0   14.772382   19.481212  1161.397293  149.394841   \n",
       "1    7.853931   16.145084   549.002100   96.663101   \n",
       "2   22.511769   28.823745  1456.043245  181.859296   \n",
       "3   21.542647   30.087377   982.054372  135.393057   \n",
       "4   14.481763   26.465939  1167.143115  149.400957   \n",
       "\n",
       "                                            geometry  \n",
       "0  POLYGON Z ((746591.271 2951419.399 69.207, 746...  \n",
       "1  POLYGON Z ((749810.012 2951406.252 137.778, 74...  \n",
       "2  POLYGON Z ((749458.573 2951325.510 175.721, 74...  \n",
       "3  POLYGON Z ((749791.436 2951364.987 144.628, 74...  \n",
       "4  POLYGON Z ((749737.548 2951033.339 183.535, 74...  \n",
       "\n",
       "[5 rows x 29 columns]"
      ]
     },
     "execution_count": 16,
     "metadata": {},
     "output_type": "execute_result"
    }
   ],
   "source": [
    "df.head()"
   ]
  },
  {
   "cell_type": "code",
   "execution_count": 2,
   "metadata": {},
   "outputs": [
    {
     "name": "stdout",
     "output_type": "stream",
     "text": [
      "bad shape type: <class 'NoneType'>\n",
      "bad shape type: <class 'NoneType'>\n"
     ]
    }
   ],
   "source": [
    "import geopandas as gpd\n",
    "from shapely.geometry import Polygon, MultiPolygon\n",
    "\n",
    "def parse_parcel(py):\n",
    "    if isinstance(py, Polygon):\n",
    "        bound = list(zip(*py.exterior.coords.xy))\n",
    "        holes = [list(zip(*hole.coords.xy)) for hole in py.interiors]\n",
    "        #return bound, holes\n",
    "        return [bound]\n",
    "    elif isinstance(py, MultiPolygon):\n",
    "        parts = [parse_parcel(part) for part in py.geoms]\n",
    "        return [x for y in parts for x in y]\n",
    "    else:\n",
    "        print('bad shape type:', type(py))\n",
    "\n",
    "def parse_building(py):\n",
    "    return parse_parcel(py)\n",
    "    \n",
    "def bbox(pts):\n",
    "    x, y = pts[0]\n",
    "    ax, ay, bx, by = x, y, x, y\n",
    "    for i in range(1, len(pts)):\n",
    "        x, y = pts[i]\n",
    "        ax = x if x < ax else ax\n",
    "        ay = y if y < ay else ay\n",
    "        bx = x if x > bx else bx\n",
    "        by = y if y > by else by\n",
    "    return ax, ay, bx, by\n",
    "    \n",
    "def parse_bostonbuildings_shps(path='./boston_buildings/'):\n",
    "    parcels_df = gpd.read_file('boston_buildings/Parcels_2018.shp')\n",
    "    parcels = parcels_df.geometry.apply(parse_parcel)\n",
    "    buildings_df = gpd.read_file('boston_buildings/Boston_Buildings.shp')\n",
    "    buildings = buildings_df.geometry.apply(parse_building)\n",
    "    \n",
    "    samples = []\n",
    "    for parcel in filter(None, parcels):\n",
    "        pts = [p for bnd in parcel for p in bnd]\n",
    "        ax, ay, bx, by = bbox(pts)\n",
    "        h, w = (by - ay), (bx - ax)\n",
    "        parcel = [[(x - ax, y - ay) for x, y in part] for part in parcel]\n",
    "        byclass = {'parcel': parcel} #, 'footprints': buildings}\n",
    "        samples.append((byclass, h, w))\n",
    "\n",
    "    return samples\n",
    "    #return buildings_df, parcels_df, byclass\n",
    "\n",
    "#buildings_df, parcels_df, byclass = parse_bostonbuildings_shps()\n",
    "parsed_boston = parse_bostonbuildings_shps()"
   ]
  },
  {
   "cell_type": "code",
   "execution_count": 14,
   "metadata": {},
   "outputs": [
    {
     "data": {
      "image/png": "[encoded data removed]",
      "text/plain": [
       "<Figure size 432x288 with 1 Axes>"
      ]
     },
     "metadata": {
      "needs_background": "light"
     },
     "output_type": "display_data"
    }
   ],
   "source": [
    "f, ax = plt.subplots()\n",
    "ax.set_aspect(1)\n",
    "l = Layer()\n",
    "for byclass, h, w in parsed_boston[:10]:\n",
    "    for parcel in byclass['parcel']:\n",
    "        l.plot_loop(ax, parcel)"
   ]
  },
  {
   "cell_type": "code",
   "execution_count": 4,
   "metadata": {},
   "outputs": [
    {
     "data": {
      "text/plain": [
       "({'parcel': [[(0.00030252900000959926, 0.0002564780000398059),\n",
       "    (0.0001711599999794089, 0.0),\n",
       "    (5.553900001586953e-05, 3.163700000641256e-05),\n",
       "    (0.0, 4.6932000032029464e-05),\n",
       "    (0.00012447300002804695, 0.0003041190000203642),\n",
       "    (0.00030252900000959926, 0.0002564780000398059)]]},\n",
       " 0.0003041190000203642,\n",
       " 0.00030252900000959926)"
      ]
     },
     "execution_count": 4,
     "metadata": {},
     "output_type": "execute_result"
    }
   ],
   "source": [
    "parsed_boston[0]"
   ]
  },
  {
   "cell_type": "code",
   "execution_count": 7,
   "metadata": {},
   "outputs": [
    {
     "data": {
      "text/html": [
       "<div>\n",
       "<style scoped>\n",
       "    .dataframe tbody tr th:only-of-type {\n",
       "        vertical-align: middle;\n",
       "    }\n",
       "\n",
       "    .dataframe tbody tr th {\n",
       "        vertical-align: top;\n",
       "    }\n",
       "\n",
       "    .dataframe thead th {\n",
       "        text-align: right;\n",
       "    }\n",
       "</style>\n",
       "<table border=\"1\" class=\"dataframe\">\n",
       "  <thead>\n",
       "    <tr style=\"text-align: right;\">\n",
       "      <th></th>\n",
       "      <th>FID</th>\n",
       "      <th>WARD</th>\n",
       "      <th>PARCEL</th>\n",
       "      <th>PID_LONG</th>\n",
       "      <th>WPD</th>\n",
       "      <th>BATCH</th>\n",
       "      <th>SHAPE_Leng</th>\n",
       "      <th>SHAPE_Area</th>\n",
       "      <th>geometry</th>\n",
       "    </tr>\n",
       "  </thead>\n",
       "  <tbody>\n",
       "    <tr>\n",
       "      <th>0</th>\n",
       "      <td>1</td>\n",
       "      <td>12.0</td>\n",
       "      <td>2742</td>\n",
       "      <td>1202742000</td>\n",
       "      <td>12-06-005</td>\n",
       "      <td>NaN</td>\n",
       "      <td>0.000936</td>\n",
       "      <td>5.089961e-08</td>\n",
       "      <td>POLYGON ((-71.08039 42.31335, -71.08053 42.313...</td>\n",
       "    </tr>\n",
       "    <tr>\n",
       "      <th>1</th>\n",
       "      <td>2</td>\n",
       "      <td>16.0</td>\n",
       "      <td>934</td>\n",
       "      <td>1600934000</td>\n",
       "      <td>16-01-060</td>\n",
       "      <td>NaN</td>\n",
       "      <td>0.000957</td>\n",
       "      <td>4.260230e-08</td>\n",
       "      <td>POLYGON ((-71.06130 42.29597, -71.06100 42.296...</td>\n",
       "    </tr>\n",
       "    <tr>\n",
       "      <th>2</th>\n",
       "      <td>3</td>\n",
       "      <td>16.0</td>\n",
       "      <td>2862</td>\n",
       "      <td>1602862000</td>\n",
       "      <td>16-06-020</td>\n",
       "      <td>NaN</td>\n",
       "      <td>0.000707</td>\n",
       "      <td>1.818355e-08</td>\n",
       "      <td>POLYGON ((-71.05877 42.28976, -71.05905 42.289...</td>\n",
       "    </tr>\n",
       "    <tr>\n",
       "      <th>3</th>\n",
       "      <td>4</td>\n",
       "      <td>20.0</td>\n",
       "      <td>8008</td>\n",
       "      <td>2008008000</td>\n",
       "      <td>20-17-140</td>\n",
       "      <td>NaN</td>\n",
       "      <td>0.000917</td>\n",
       "      <td>4.575228e-08</td>\n",
       "      <td>POLYGON ((-71.16790 42.28730, -71.16802 42.287...</td>\n",
       "    </tr>\n",
       "    <tr>\n",
       "      <th>4</th>\n",
       "      <td>5</td>\n",
       "      <td>14.0</td>\n",
       "      <td>1192</td>\n",
       "      <td>1401192000</td>\n",
       "      <td>14-04-085</td>\n",
       "      <td>NaN</td>\n",
       "      <td>0.002041</td>\n",
       "      <td>2.432359e-07</td>\n",
       "      <td>POLYGON ((-71.07614 42.30157, -71.07649 42.301...</td>\n",
       "    </tr>\n",
       "  </tbody>\n",
       "</table>\n",
       "</div>"
      ],
      "text/plain": [
       "   FID  WARD PARCEL    PID_LONG        WPD  BATCH  SHAPE_Leng    SHAPE_Area  \\\n",
       "0    1  12.0   2742  1202742000  12-06-005    NaN    0.000936  5.089961e-08   \n",
       "1    2  16.0    934  1600934000  16-01-060    NaN    0.000957  4.260230e-08   \n",
       "2    3  16.0   2862  1602862000  16-06-020    NaN    0.000707  1.818355e-08   \n",
       "3    4  20.0   8008  2008008000  20-17-140    NaN    0.000917  4.575228e-08   \n",
       "4    5  14.0   1192  1401192000  14-04-085    NaN    0.002041  2.432359e-07   \n",
       "\n",
       "                                            geometry  \n",
       "0  POLYGON ((-71.08039 42.31335, -71.08053 42.313...  \n",
       "1  POLYGON ((-71.06130 42.29597, -71.06100 42.296...  \n",
       "2  POLYGON ((-71.05877 42.28976, -71.05905 42.289...  \n",
       "3  POLYGON ((-71.16790 42.28730, -71.16802 42.287...  \n",
       "4  POLYGON ((-71.07614 42.30157, -71.07649 42.301...  "
      ]
     },
     "execution_count": 7,
     "metadata": {},
     "output_type": "execute_result"
    }
   ],
   "source": [
    "parcels_df.head()"
   ]
  },
  {
   "cell_type": "code",
   "execution_count": 6,
   "metadata": {},
   "outputs": [
    {
     "data": {
      "text/html": [
       "<div>\n",
       "<style scoped>\n",
       "    .dataframe tbody tr th:only-of-type {\n",
       "        vertical-align: middle;\n",
       "    }\n",
       "\n",
       "    .dataframe tbody tr th {\n",
       "        vertical-align: top;\n",
       "    }\n",
       "\n",
       "    .dataframe thead th {\n",
       "        text-align: right;\n",
       "    }\n",
       "</style>\n",
       "<table border=\"1\" class=\"dataframe\">\n",
       "  <thead>\n",
       "    <tr style=\"text-align: right;\">\n",
       "      <th></th>\n",
       "      <th>OBJECTID</th>\n",
       "      <th>BLDG_ID</th>\n",
       "      <th>BID</th>\n",
       "      <th>LIFECYCLE_</th>\n",
       "      <th>TYPE_ID</th>\n",
       "      <th>LIFECYCL_1</th>\n",
       "      <th>Shapearea</th>\n",
       "      <th>Shapelen</th>\n",
       "      <th>geometry</th>\n",
       "    </tr>\n",
       "  </thead>\n",
       "  <tbody>\n",
       "    <tr>\n",
       "      <th>0</th>\n",
       "      <td>94426</td>\n",
       "      <td>Bos_1103442000_B0</td>\n",
       "      <td>97592.0</td>\n",
       "      <td>1.0</td>\n",
       "      <td>NaN</td>\n",
       "      <td>None</td>\n",
       "      <td>1539.963997</td>\n",
       "      <td>162.628625</td>\n",
       "      <td>POLYGON ((-71.11928 42.30488, -71.11928 42.304...</td>\n",
       "    </tr>\n",
       "    <tr>\n",
       "      <th>1</th>\n",
       "      <td>94428</td>\n",
       "      <td>Bos_1103444000_B0</td>\n",
       "      <td>97594.0</td>\n",
       "      <td>1.0</td>\n",
       "      <td>NaN</td>\n",
       "      <td>None</td>\n",
       "      <td>1607.626356</td>\n",
       "      <td>173.981004</td>\n",
       "      <td>POLYGON ((-71.11932 42.30514, -71.11930 42.305...</td>\n",
       "    </tr>\n",
       "    <tr>\n",
       "      <th>2</th>\n",
       "      <td>94435</td>\n",
       "      <td>Bos_1103469000_B0</td>\n",
       "      <td>97601.0</td>\n",
       "      <td>1.0</td>\n",
       "      <td>NaN</td>\n",
       "      <td>None</td>\n",
       "      <td>1283.085419</td>\n",
       "      <td>166.904408</td>\n",
       "      <td>POLYGON ((-71.11901 42.30615, -71.11901 42.306...</td>\n",
       "    </tr>\n",
       "    <tr>\n",
       "      <th>3</th>\n",
       "      <td>94437</td>\n",
       "      <td>Bos_1103502000_B0</td>\n",
       "      <td>97603.0</td>\n",
       "      <td>1.0</td>\n",
       "      <td>NaN</td>\n",
       "      <td>None</td>\n",
       "      <td>1114.696267</td>\n",
       "      <td>156.375121</td>\n",
       "      <td>POLYGON ((-71.11894 42.30592, -71.11904 42.305...</td>\n",
       "    </tr>\n",
       "    <tr>\n",
       "      <th>4</th>\n",
       "      <td>94442</td>\n",
       "      <td>Bos_1804492000_B0</td>\n",
       "      <td>97608.0</td>\n",
       "      <td>1.0</td>\n",
       "      <td>NaN</td>\n",
       "      <td>None</td>\n",
       "      <td>1024.556178</td>\n",
       "      <td>153.921572</td>\n",
       "      <td>POLYGON ((-71.12872 42.28453, -71.12871 42.284...</td>\n",
       "    </tr>\n",
       "  </tbody>\n",
       "</table>\n",
       "</div>"
      ],
      "text/plain": [
       "   OBJECTID            BLDG_ID      BID  LIFECYCLE_  TYPE_ID LIFECYCL_1  \\\n",
       "0     94426  Bos_1103442000_B0  97592.0         1.0      NaN       None   \n",
       "1     94428  Bos_1103444000_B0  97594.0         1.0      NaN       None   \n",
       "2     94435  Bos_1103469000_B0  97601.0         1.0      NaN       None   \n",
       "3     94437  Bos_1103502000_B0  97603.0         1.0      NaN       None   \n",
       "4     94442  Bos_1804492000_B0  97608.0         1.0      NaN       None   \n",
       "\n",
       "     Shapearea    Shapelen                                           geometry  \n",
       "0  1539.963997  162.628625  POLYGON ((-71.11928 42.30488, -71.11928 42.304...  \n",
       "1  1607.626356  173.981004  POLYGON ((-71.11932 42.30514, -71.11930 42.305...  \n",
       "2  1283.085419  166.904408  POLYGON ((-71.11901 42.30615, -71.11901 42.306...  \n",
       "3  1114.696267  156.375121  POLYGON ((-71.11894 42.30592, -71.11904 42.305...  \n",
       "4  1024.556178  153.921572  POLYGON ((-71.12872 42.28453, -71.12871 42.284...  "
      ]
     },
     "execution_count": 6,
     "metadata": {},
     "output_type": "execute_result"
    }
   ],
   "source": [
    "buildings_df.head()"
   ]
  },
  {
   "cell_type": "code",
   "execution_count": 10,
   "metadata": {},
   "outputs": [],
   "source": [
    "class Layer:\n",
    "    \"\"\"Container-like class for representing either an\n",
    "    input or output image directory for training a pix2pix model\"\"\"\n",
    "\n",
    "    @staticmethod\n",
    "    def save_image(path, image, cmap='gist_earth_r'):\n",
    "        \"\"\"Plot/save an image at a path via matplotlib\"\"\"\n",
    "        n_cols = n_rows = 1\n",
    "        n_pixels = 256\n",
    "        dpi_of_monitor = 96 # HARDCODED DPI VALUE FROM MY OLD DELL LAPTOP...\n",
    "        figsize = (n_pixels * n_cols / dpi_of_monitor,\n",
    "                   n_pixels * n_rows / dpi_of_monitor)\n",
    "        f, ax = plt.subplots(n_rows, n_cols, figsize=figsize)\n",
    "        f.subplots_adjust(wspace=0, hspace=0, left=0, right=1, bottom=0, top=1)\n",
    "        ax.axis('off')\n",
    "        ax.imshow(image, cmap=cmap, vmin=0, vmax=None)\n",
    "        f.savefig(path, dpi=dpi_of_monitor)\n",
    "        plt.close(f)\n",
    "    \n",
    "    @classmethod\n",
    "    def svgs_to_imgs(cls, parsed_svgs, directory=None, show_instead=False):\n",
    "        \"\"\"Create folder of images for image-translation from a list of SVG paths\"\"\"\n",
    "        layer = cls()\n",
    "        directory = os.getcwd() if directory is None else directory\n",
    "        directory = os.path.join(directory, layer.name)\n",
    "        os.makedirs(directory, exist_ok=True)\n",
    "        for svg, (byclass, height, width) in tqdm(parsed_svgs.items(), desc=layer.name):\n",
    "            filename = os.path.basename(svg)\n",
    "            path = os.path.join(directory, filename[:filename.rfind('.')])\n",
    "            image = layer(byclass, height, width)\n",
    "            if show_instead:\n",
    "                layer.show(layer=image)\n",
    "            else:\n",
    "                layer.save_image(path, image)\n",
    "    \n",
    "    def plot_loop(self, ax, loop, lw=2, ls='-', col='k', fill=None):\n",
    "        \"\"\"Plot the polygon `loop`\"\"\"\n",
    "        if fill is not None:\n",
    "            xs, ys = zip(*loop)\n",
    "            ax.fill(xs, ys, fill)\n",
    "        for i in range(len(loop)):\n",
    "            (ux, uy), (vx, vy) = loop[i - 1], loop[i]\n",
    "            ax.plot([ux, vx], [uy, vy], lw=lw, ls=ls, color=col)\n",
    "\n",
    "    def show_style(self, ax, style, byclass):\n",
    "        \"\"\"Plot the data in `byclass` based on specification in `style`\"\"\"\n",
    "        ax.axis('off')\n",
    "        ax.set_aspect(1)\n",
    "        for cls in byclass:\n",
    "            col, ls = style[cls]\n",
    "            for part in byclass[cls]:\n",
    "                self.plot_loop(ax, part, lw=2, ls=ls, col=col, fill=col)\n",
    "\n",
    "    def figure_buffer(self, fig, dpi=180):\n",
    "        \"\"\"Create np.array representation from matplotlib figure buffer\"\"\"\n",
    "        buf = io.BytesIO()\n",
    "        fig.savefig(buf, format=\"png\", dpi=dpi)\n",
    "        buf.seek(0)\n",
    "        img_arr = np.frombuffer(buf.getvalue(), dtype=np.uint8)\n",
    "        buf.close()\n",
    "        img = cv2.imdecode(img_arr, 1)\n",
    "        img = cv2.cvtColor(img, cv2.COLOR_BGR2RGB)\n",
    "        return img\n",
    "\n",
    "    def mask(self, byclass, height, width, figsize=(10, 10), dpi=180):\n",
    "        \"\"\"Create a mask to find the boundary of the sample\"\"\"\n",
    "        # make ~binary mask using available classes\n",
    "        style = {cls: ('k', '-') for cls in byclass}\n",
    "        fig = Figure(figsize=figsize)\n",
    "        fig.tight_layout(pad=0)\n",
    "        fig.subplots_adjust(hspace=0, wspace=0, left=0, right=1, bottom=0, top=1)\n",
    "        canvas = FigureCanvas(fig)\n",
    "        ax = fig.subplots(1, 1)\n",
    "        self.show_style(ax, style, byclass)\n",
    "        ax.set_xlim(0, height)\n",
    "        ax.set_ylim(0, width)\n",
    "        canvas.draw()\n",
    "        mask = self.figure_buffer(fig, dpi=dpi)\n",
    "        mask = cv2.cvtColor(mask, cv2.COLOR_BGR2GRAY)\n",
    "        # fill in the gaps via:\n",
    "        # https://www.learnopencv.com/filling-holes-in-an-image-using-opencv-python-c/\n",
    "        _, thresholded = cv2.threshold(mask, 220, 255, cv2.THRESH_BINARY_INV);\n",
    "        floodfilled = thresholded.copy()\n",
    "        h, w = thresholded.shape[:2]\n",
    "        mask = np.zeros((h + 2, w + 2), np.uint8)\n",
    "        cv2.floodFill(floodfilled, mask, (0, 0), 255);\n",
    "        mask = cv2.bitwise_not(thresholded | cv2.bitwise_not(floodfilled))\n",
    "        return mask\n",
    "    \n",
    "    def norm_mask(self, mask):\n",
    "        \"\"\"Renormalize mask by the current label set maximum\"\"\"\n",
    "        lmax = max(self.labels.values())\n",
    "        return (mask * (lmax / mask.max())).astype(int)\n",
    "        \n",
    "    def show(self, byclass=None, height=None, width=None, layer=None,\n",
    "             ax=None, figsize=(10, 10), cmap='gist_earth_r'):\n",
    "        if ax is None:\n",
    "            f, ax = plt.subplots(figsize=figsize)\n",
    "        if layer is None:\n",
    "            layer = self(byclass, height, width)\n",
    "        ax.imshow(layer, cmap=cmap)\n",
    "        return ax\n",
    "    \n",
    "    labels = {'Void': 0}\n",
    "    \n",
    "    def __init__(self, labels=None, name=None):\n",
    "        self.labels = self.__class__.labels if labels is None else labels\n",
    "        self.name = self.__class__.__name__ if name is None else name\n",
    "\n",
    "    def __call__(self, byclass, height, width):\n",
    "        \"\"\"Create the layer as an image (subclasses must override)\n",
    "        \n",
    "        Args:\n",
    "            byclass (dict): Polygon data organized by class label\n",
    "            height (int): Upper limit for x-axis of image\n",
    "            width (int): Upper limit for y-axis of image\n",
    "            \n",
    "        Returns:\n",
    "            np.array image representation of the layer\n",
    "        \n",
    "        \"\"\"\n",
    "        raise NotImplementedError\n",
    "    \n",
    "\n",
    "class FootprintInputLayer(Layer):\n",
    "    \n",
    "    labels = dict([\n",
    "        ('Footprint', 5),\n",
    "    ])\n",
    "\n",
    "    def __call__(self, byclass, height, width):\n",
    "        mask = self.norm_mask(self.mask(byclass, height, width))\n",
    "        layer = mask.max() - mask\n",
    "        return layer\n",
    "\n",
    "        \n",
    "class RepartitionInputLayer(Layer):\n",
    "    \n",
    "    labels = dict([\n",
    "        ('Door', 1),\n",
    "        ('Window', 2),\n",
    "        ('Parking', 3),\n",
    "        ('Room', 5),\n",
    "    ])\n",
    "\n",
    "    def __call__(self, byclass, height, width):\n",
    "        # start with the inverse of the mask\n",
    "        # blend in annotations which touch the boundary of the footprint\n",
    "        mask = self.norm_mask(self.mask(byclass, height, width))\n",
    "        layer = mask.max() - mask\n",
    "        for cls, label in self.labels.items():\n",
    "            for py in byclass[cls]:\n",
    "                # determine if a dilated mask of py intersects the mask\n",
    "                # which implies its a feature on the boundary of the footprint\n",
    "                pymask = self.mask({cls: [py]}, height, width)\n",
    "                kernel = np.ones((3, 3), np.uint8) \n",
    "                pyfilt = cv2.erode(pymask.copy(), kernel, iterations=1)\n",
    "                pyfilt = (((mask) * (pyfilt.max() - pyfilt)).max() > 0)\n",
    "                if pyfilt or cls == 'Room':\n",
    "                    weight = (pymask == 0).astype(int)\n",
    "                    layer = weight * label + (1 - weight) * layer\n",
    "        return layer\n",
    "\n",
    "\n",
    "class RepartitionOutputLayer(Layer):\n",
    "    \n",
    "    labels = dict([\n",
    "        ('Door', 1),\n",
    "        ('Window', 2),\n",
    "        ('Parking', 3),\n",
    "        ('Room', 4),\n",
    "        ('Wall', 5),\n",
    "    ])\n",
    "\n",
    "    def __call__(self, byclass, height, width):\n",
    "        mask = self.norm_mask(self.mask(byclass, height, width))\n",
    "        layer = mask.max() - mask\n",
    "        # start with the inverse of the mask\n",
    "        # blend in annotations which touch the boundary of the footprint\n",
    "        for cls, label in self.labels.items():\n",
    "            for py in byclass[cls]:\n",
    "                # determine if a dilated mask of py intersects the mask\n",
    "                # which implies its a feature on the boundary of the footprint\n",
    "                pymask = self.mask({cls: [py]}, height, width)\n",
    "                kernel = np.ones((3, 3), np.uint8) \n",
    "                pymask = cv2.erode(pymask, kernel, iterations=3)\n",
    "                # blend a mask of py with the layer using a binary weight\n",
    "                weight = (pymask == 0).astype(int)\n",
    "                layer = weight * label + (1 - weight) * layer\n",
    "        return layer"
   ]
  },
  {
   "cell_type": "code",
   "execution_count": 4,
   "metadata": {
    "scrolled": false
   },
   "outputs": [
    {
     "data": {
      "application/vnd.jupyter.widget-view+json": {
       "model_id": "04cf9e0e2f234bd8a9b27e48f2bd05e2",
       "version_major": 2,
       "version_minor": 0
      },
      "text/plain": [
       "HBox(children=(IntProgress(value=0, description='FootprintInputLayer', max=3, style=ProgressStyle(description_…"
      ]
     },
     "metadata": {},
     "output_type": "display_data"
    },
    {
     "name": "stderr",
     "output_type": "stream",
     "text": [
      "/home/cogle/dev/anaconda3/lib/python3.7/site-packages/matplotlib/tight_layout.py:231: UserWarning: tight_layout : falling back to Agg renderer\n",
      "  warnings.warn(\"tight_layout : falling back to Agg renderer\")\n"
     ]
    },
    {
     "name": "stdout",
     "output_type": "stream",
     "text": [
      "\n"
     ]
    },
    {
     "data": {
      "application/vnd.jupyter.widget-view+json": {
       "model_id": "5ac15adcd4c54a8e9722e93eddc0d8a2",
       "version_major": 2,
       "version_minor": 0
      },
      "text/plain": [
       "HBox(children=(IntProgress(value=0, description='RepartitionInputLayer', max=3, style=ProgressStyle(descriptio…"
      ]
     },
     "metadata": {},
     "output_type": "display_data"
    },
    {
     "name": "stdout",
     "output_type": "stream",
     "text": [
      "\n"
     ]
    },
    {
     "data": {
      "application/vnd.jupyter.widget-view+json": {
       "model_id": "1775ff1a24e14dbd928b257f2ccb1d91",
       "version_major": 2,
       "version_minor": 0
      },
      "text/plain": [
       "HBox(children=(IntProgress(value=0, description='RepartitionOutputLayer', max=3, style=ProgressStyle(descripti…"
      ]
     },
     "metadata": {},
     "output_type": "display_data"
    },
    {
     "name": "stdout",
     "output_type": "stream",
     "text": [
      "\n"
     ]
    }
   ],
   "source": [
    "svgs = glob.glob('ImagesGT/*.svg')\n",
    "classes = (\n",
    "    'Door',\n",
    "    'Window',\n",
    "    'Room',\n",
    "    'Wall',\n",
    "    'Separation',\n",
    "    'Parking',\n",
    ")\n",
    "parsed = {svg: parse_CVC_FP_svg(svg, classes) for svg in svgs[:3]}\n",
    "\n",
    "directory = './tmp3/'\n",
    "\n",
    "FootprintInputLayer.svgs_to_imgs(parsed, directory)\n",
    "RepartitionInputLayer.svgs_to_imgs(parsed, directory)\n",
    "RepartitionOutputLayer.svgs_to_imgs(parsed, directory)"
   ]
  },
  {
   "cell_type": "code",
   "execution_count": 29,
   "metadata": {},
   "outputs": [
    {
     "data": {
      "text/plain": [
       "<matplotlib.axes._subplots.AxesSubplot at 0x7f4a9c31e898>"
      ]
     },
     "execution_count": 29,
     "metadata": {},
     "output_type": "execute_result"
    },
    {
     "data": {
      "image/png": "[encoded data removed]",
      "text/plain": [
       "<Figure size 720x720 with 1 Axes>"
      ]
     },
     "metadata": {
      "needs_background": "light"
     },
     "output_type": "display_data"
    }
   ],
   "source": [
    "FootprintInputLayer().show(*tuple(parsed.values())[0])"
   ]
  },
  {
   "cell_type": "code",
   "execution_count": 2,
   "metadata": {},
   "outputs": [],
   "source": [
    "# TODO:\n",
    "#  remove meshmaker dependency\n",
    "#  output any lineup to any folder; use combine_AB script from pix2pix\n",
    "\n",
    "def plot_loop(ax, loop, lw=2, ls='-', col='k', fill=None):\n",
    "    if fill is not None:\n",
    "        xs, ys = zip(*loop)\n",
    "        ax.fill(xs, ys, fill)\n",
    "    for i in range(len(loop)):\n",
    "        (ux, uy), (vx, vy) = loop[i - 1], loop[i]\n",
    "        ax.plot([ux, vx], [uy, vy], lw=lw, ls=ls, color=col)\n",
    "\n",
    "def show_style(ax, style, byclass):\n",
    "    ax.axis('off')\n",
    "    ax.set_aspect(1)\n",
    "    for cls in byclass:\n",
    "        col, ls = style[cls]\n",
    "        for part in byclass[cls]:\n",
    "            plot_loop(ax, part, lw=2, ls=ls, col=col, fill=col)\n",
    "\n",
    "def figure_buffer(fig, dpi=180):\n",
    "    # returns an image as numpy array from figure\n",
    "    buf = io.BytesIO()\n",
    "    fig.savefig(buf, format=\"png\", dpi=dpi)\n",
    "    buf.seek(0)\n",
    "    img_arr = np.frombuffer(buf.getvalue(), dtype=np.uint8)\n",
    "    buf.close()\n",
    "    img = cv2.imdecode(img_arr, 1)\n",
    "    img = cv2.cvtColor(img, cv2.COLOR_BGR2RGB)\n",
    "    return img\n",
    "\n",
    "def fill_mask(im_in):\n",
    "    # Threshold.\n",
    "    # Set values equal to or above 220 to 0.\n",
    "    # Set values below 220 to 255.\n",
    "    th, im_th = cv2.threshold(im_in, 220, 255, cv2.THRESH_BINARY_INV);\n",
    "    # Copy the thresholded image.\n",
    "    im_floodfill = im_th.copy()\n",
    "    # Mask used to flood filling.\n",
    "    # Notice the size needs to be 2 pixels than the image.\n",
    "    h, w = im_th.shape[:2]\n",
    "    mask = np.zeros((h + 2, w + 2), np.uint8)\n",
    "    # Floodfill from point (0, 0)\n",
    "    cv2.floodFill(im_floodfill, mask, (0,0), 255);\n",
    "    # Invert floodfilled image\n",
    "    im_floodfill_inv = cv2.bitwise_not(im_floodfill)\n",
    "    # Combine the two images to get the foreground.\n",
    "    im_out = im_th | im_floodfill_inv\n",
    "    return cv2.bitwise_not(im_out)\n",
    "\n",
    "def get_mask(byclass, height, width, figsize=(10, 10), dpi=180):\n",
    "    style = {cls: ('k', '-') for cls in byclass}\n",
    "    fig = Figure(figsize=figsize)\n",
    "    fig.tight_layout(pad=0)\n",
    "    fig.subplots_adjust(hspace=0, wspace=0, left=0, right=1, bottom=0, top=1)\n",
    "    canvas = FigureCanvas(fig)\n",
    "    ax = fig.subplots(1, 1)\n",
    "    show_style(ax, style, byclass)\n",
    "    d = 0\n",
    "    ax.set_xlim(-d, height + d)\n",
    "    ax.set_ylim(-d, width  + d)\n",
    "    canvas.draw()\n",
    "    mask = figure_buffer(fig, dpi=dpi)\n",
    "    mask = cv2.cvtColor(mask, cv2.COLOR_BGR2GRAY)\n",
    "    mask = fill_mask(mask)\n",
    "    return mask\n",
    "\n",
    "def get_layer(mask, byclass, height, width, lineup, isleft):\n",
    "    layer = mask.max() - mask\n",
    "    for cls, label in lineup:\n",
    "        for py in byclass[cls]:\n",
    "            repack = {cls: Loops([py]).offset(-20).loops}\n",
    "            pymask = get_mask(repack, height, width)\n",
    "            pyfilt = (((mask) * (pymask.max() - pymask)).max() > 0)\n",
    "            if not isleft or (pyfilt or cls == 'Room' or cls == 'Wall'):\n",
    "                repack = {cls: [py]}\n",
    "                remask = get_mask(repack, height, width)\n",
    "                weight = (remask == 0).astype(int)\n",
    "                layer = ((weight) * (label) + (1 - weight) * (layer))\n",
    "    return layer\n",
    "\n",
    "\n",
    "CLASSES = (\n",
    "    'Door',\n",
    "    'Window',\n",
    "    'Room',\n",
    "    'Wall',\n",
    "    'Separation',\n",
    "    'Parking',\n",
    ")\n",
    "leftlineup = (\n",
    "    ('Door', 1),\n",
    "    ('Window', 2),\n",
    "    ('Parking', 3),\n",
    "    ('Room', 5),\n",
    ")\n",
    "rightlineup = (\n",
    "    ('Door', 1),\n",
    "    ('Window', 2),\n",
    "    ('Parking', 3),\n",
    "    ('Room', 4),\n",
    "    ('Wall', 5),\n",
    ")\n",
    "\n",
    "def save_sample(svg, classes=CLASSES, path='./tmp2/{}.png', cmap='gist_earth_r'):\n",
    "    byclass, height, width = parse_svg(svg, classes)\n",
    "    mask = get_mask(byclass, height, width)\n",
    "    mask = (mask * (5 / mask.max())).astype(int)\n",
    "    left  = get_layer(mask, byclass, height, width, leftlineup, True)\n",
    "    right = get_layer(mask, byclass, height, width, rightlineup, False)\n",
    "\n",
    "    dpi_of_monitor = 96\n",
    "    figsize = (512 / dpi_of_monitor, 256 / dpi_of_monitor)\n",
    "    #f, (left_ax, right_ax) = plot(1, 2, figsize)\n",
    "    f, (left_ax, right_ax) = plt.subplots(1, 2, figsize=figsize)\n",
    "    f.subplots_adjust(wspace=0, hspace=0, left=0, right=1, bottom=0, top=1)\n",
    "    left_ax.axis('off')\n",
    "    right_ax.axis('off')\n",
    "    left_ax.imshow(left, cmap=cmap, vmin=0, vmax=None)\n",
    "    right_ax.imshow(right, cmap=cmap, vmin=0, vmax=None)\n",
    "    \n",
    "    fn = os.path.basename(svg)\n",
    "    os.makedirs(os.path.dirname(path), exist_ok=True)\n",
    "    f.savefig(path.format(fn[:fn.rfind('.')]), dpi=dpi_of_monitor)"
   ]
  },
  {
   "cell_type": "code",
   "execution_count": 13,
   "metadata": {
    "scrolled": true
   },
   "outputs": [
    {
     "data": {
      "application/vnd.jupyter.widget-view+json": {
       "model_id": "b884cf8a8a36422dbc9cbc6c929bee61",
       "version_major": 2,
       "version_minor": 0
      },
      "text/plain": [
       "HBox(children=(IntProgress(value=0, max=47), HTML(value='')))"
      ]
     },
     "metadata": {},
     "output_type": "display_data"
    },
    {
     "name": "stderr",
     "output_type": "stream",
     "text": [
      "/home/cogle/dev/anaconda3/lib/python3.7/site-packages/matplotlib/pyplot.py:514: RuntimeWarning: More than 20 figures have been opened. Figures created through the pyplot interface (`matplotlib.pyplot.figure`) are retained until explicitly closed and may consume too much memory. (To control this warning, see the rcParam `figure.max_open_warning`).\n",
      "  max_open_warning, RuntimeWarning)\n"
     ]
    },
    {
     "name": "stdout",
     "output_type": "stream",
     "text": [
      "\n"
     ]
    },
    {
     "data": {
      "image/png": "[encoded data removed]",
      "text/plain": [
       "<Figure size 384x192 with 2 Axes>"
      ]
     },
     "metadata": {
      "needs_background": "light"
     },
     "output_type": "display_data"
    },
    {
     "data": {
      "image/png": "[encoded data removed]",
      "text/plain": [
       "<Figure size 384x192 with 2 Axes>"
      ]
     },
     "metadata": {
      "needs_background": "light"
     },
     "output_type": "display_data"
    },
    {
     "data": {
      "image/png": "[encoded data removed]",
      "text/plain": [
       "<Figure size 384x192 with 2 Axes>"
      ]
     },
     "metadata": {
      "needs_background": "light"
     },
     "output_type": "display_data"
    },
    {
     "data": {
      "image/png": "[encoded data removed]",
      "text/plain": [
       "<Figure size 384x192 with 2 Axes>"
      ]
     },
     "metadata": {
      "needs_background": "light"
     },
     "output_type": "display_data"
    },
    {
     "data": {
      "image/png": "[encoded data removed]",
      "text/plain": [
       "<Figure size 384x192 with 2 Axes>"
      ]
     },
     "metadata": {
      "needs_background": "light"
     },
     "output_type": "display_data"
    },
    {
     "data": {
      "image/png": "[encoded data removed]",
      "text/plain": [
       "<Figure size 384x192 with 2 Axes>"
      ]
     },
     "metadata": {
      "needs_background": "light"
     },
     "output_type": "display_data"
    },
    {
     "data": {
      "image/png": "[encoded data removed]",
      "text/plain": [
       "<Figure size 384x192 with 2 Axes>"
      ]
     },
     "metadata": {
      "needs_background": "light"
     },
     "output_type": "display_data"
    },
    {
     "data": {
      "image/png": "[encoded data removed]",
      "text/plain": [
       "<Figure size 384x192 with 2 Axes>"
      ]
     },
     "metadata": {
      "needs_background": "light"
     },
     "output_type": "display_data"
    },
    {
     "data": {
      "image/png": "[encoded data removed]",
      "text/plain": [
       "<Figure size 384x192 with 2 Axes>"
      ]
     },
     "metadata": {
      "needs_background": "light"
     },
     "output_type": "display_data"
    },
    {
     "data": {
      "image/png": "[encoded data removed]",
      "text/plain": [
       "<Figure size 384x192 with 2 Axes>"
      ]
     },
     "metadata": {
      "needs_background": "light"
     },
     "output_type": "display_data"
    },
    {
     "data": {
      "image/png": "[encoded data removed]",
      "text/plain": [
       "<Figure size 384x192 with 2 Axes>"
      ]
     },
     "metadata": {
      "needs_background": "light"
     },
     "output_type": "display_data"
    },
    {
     "data": {
      "image/png": "[encoded data removed]",
      "text/plain": [
       "<Figure size 384x192 with 2 Axes>"
      ]
     },
     "metadata": {
      "needs_background": "light"
     },
     "output_type": "display_data"
    },
    {
     "data": {
      "image/png": "[encoded data removed]",
      "text/plain": [
       "<Figure size 384x192 with 2 Axes>"
      ]
     },
     "metadata": {
      "needs_background": "light"
     },
     "output_type": "display_data"
    },
    {
     "data": {
      "image/png": "[encoded data removed]",
      "text/plain": [
       "<Figure size 384x192 with 2 Axes>"
      ]
     },
     "metadata": {
      "needs_background": "light"
     },
     "output_type": "display_data"
    },
    {
     "data": {
      "image/png": "[encoded data removed]",
      "text/plain": [
       "<Figure size 384x192 with 2 Axes>"
      ]
     },
     "metadata": {
      "needs_background": "light"
     },
     "output_type": "display_data"
    },
    {
     "data": {
      "image/png": "[encoded data removed]",
      "text/plain": [
       "<Figure size 384x192 with 2 Axes>"
      ]
     },
     "metadata": {
      "needs_background": "light"
     },
     "output_type": "display_data"
    },
    {
     "data": {
      "image/png": "[encoded data removed]",
      "text/plain": [
       "<Figure size 384x192 with 2 Axes>"
      ]
     },
     "metadata": {
      "needs_background": "light"
     },
     "output_type": "display_data"
    },
    {
     "data": {
      "image/png": "[encoded data removed]",
      "text/plain": [
       "<Figure size 384x192 with 2 Axes>"
      ]
     },
     "metadata": {
      "needs_background": "light"
     },
     "output_type": "display_data"
    },
    {
     "data": {
      "image/png": "[encoded data removed]",
      "text/plain": [
       "<Figure size 384x192 with 2 Axes>"
      ]
     },
     "metadata": {
      "needs_background": "light"
     },
     "output_type": "display_data"
    },
    {
     "data": {
      "image/png": "[encoded data removed]",
      "text/plain": [
       "<Figure size 384x192 with 2 Axes>"
      ]
     },
     "metadata": {
      "needs_background": "light"
     },
     "output_type": "display_data"
    },
    {
     "data": {
      "image/png": "[encoded data removed]",
      "text/plain": [
       "<Figure size 384x192 with 2 Axes>"
      ]
     },
     "metadata": {
      "needs_background": "light"
     },
     "output_type": "display_data"
    },
    {
     "data": {
      "image/png": "[encoded data removed]",
      "text/plain": [
       "<Figure size 384x192 with 2 Axes>"
      ]
     },
     "metadata": {
      "needs_background": "light"
     },
     "output_type": "display_data"
    },
    {
     "data": {
      "image/png": "[encoded data removed]",
      "text/plain": [
       "<Figure size 384x192 with 2 Axes>"
      ]
     },
     "metadata": {
      "needs_background": "light"
     },
     "output_type": "display_data"
    },
    {
     "data": {
      "image/png": "[encoded data removed]",
      "text/plain": [
       "<Figure size 384x192 with 2 Axes>"
      ]
     },
     "metadata": {
      "needs_background": "light"
     },
     "output_type": "display_data"
    },
    {
     "data": {
      "image/png": "[encoded data removed]",
      "text/plain": [
       "<Figure size 384x192 with 2 Axes>"
      ]
     },
     "metadata": {
      "needs_background": "light"
     },
     "output_type": "display_data"
    },
    {
     "data": {
      "image/png": "[encoded data removed]",
      "text/plain": [
       "<Figure size 384x192 with 2 Axes>"
      ]
     },
     "metadata": {
      "needs_background": "light"
     },
     "output_type": "display_data"
    },
    {
     "data": {
      "image/png": "[encoded data removed]",
      "text/plain": [
       "<Figure size 384x192 with 2 Axes>"
      ]
     },
     "metadata": {
      "needs_background": "light"
     },
     "output_type": "display_data"
    },
    {
     "data": {
      "image/png": "[encoded data removed]",
      "text/plain": [
       "<Figure size 384x192 with 2 Axes>"
      ]
     },
     "metadata": {
      "needs_background": "light"
     },
     "output_type": "display_data"
    },
    {
     "data": {
      "image/png": "[encoded data removed]",
      "text/plain": [
       "<Figure size 384x192 with 2 Axes>"
      ]
     },
     "metadata": {
      "needs_background": "light"
     },
     "output_type": "display_data"
    },
    {
     "data": {
      "image/png": "[encoded data removed]",
      "text/plain": [
       "<Figure size 384x192 with 2 Axes>"
      ]
     },
     "metadata": {
      "needs_background": "light"
     },
     "output_type": "display_data"
    },
    {
     "data": {
      "image/png": "[encoded data removed]",
      "text/plain": [
       "<Figure size 384x192 with 2 Axes>"
      ]
     },
     "metadata": {
      "needs_background": "light"
     },
     "output_type": "display_data"
    },
    {
     "data": {
      "image/png": "[encoded data removed]",
      "text/plain": [
       "<Figure size 384x192 with 2 Axes>"
      ]
     },
     "metadata": {
      "needs_background": "light"
     },
     "output_type": "display_data"
    },
    {
     "data": {
      "image/png": "[encoded data removed]",
      "text/plain": [
       "<Figure size 384x192 with 2 Axes>"
      ]
     },
     "metadata": {
      "needs_background": "light"
     },
     "output_type": "display_data"
    },
    {
     "data": {
      "image/png": "[encoded data removed]",
      "text/plain": [
       "<Figure size 384x192 with 2 Axes>"
      ]
     },
     "metadata": {
      "needs_background": "light"
     },
     "output_type": "display_data"
    },
    {
     "data": {
      "image/png": "[encoded data removed]",
      "text/plain": [
       "<Figure size 384x192 with 2 Axes>"
      ]
     },
     "metadata": {
      "needs_background": "light"
     },
     "output_type": "display_data"
    },
    {
     "data": {
      "image/png": "[encoded data removed]",
      "text/plain": [
       "<Figure size 384x192 with 2 Axes>"
      ]
     },
     "metadata": {
      "needs_background": "light"
     },
     "output_type": "display_data"
    },
    {
     "data": {
      "image/png": "[encoded data removed]",
      "text/plain": [
       "<Figure size 384x192 with 2 Axes>"
      ]
     },
     "metadata": {
      "needs_background": "light"
     },
     "output_type": "display_data"
    },
    {
     "data": {
      "image/png": "[encoded data removed]",
      "text/plain": [
       "<Figure size 384x192 with 2 Axes>"
      ]
     },
     "metadata": {
      "needs_background": "light"
     },
     "output_type": "display_data"
    },
    {
     "data": {
      "image/png": "[encoded data removed]",
      "text/plain": [
       "<Figure size 384x192 with 2 Axes>"
      ]
     },
     "metadata": {
      "needs_background": "light"
     },
     "output_type": "display_data"
    },
    {
     "data": {
      "image/png": "[encoded data removed]",
      "text/plain": [
       "<Figure size 384x192 with 2 Axes>"
      ]
     },
     "metadata": {
      "needs_background": "light"
     },
     "output_type": "display_data"
    },
    {
     "data": {
      "image/png": "[encoded data removed]",
      "text/plain": [
       "<Figure size 384x192 with 2 Axes>"
      ]
     },
     "metadata": {
      "needs_background": "light"
     },
     "output_type": "display_data"
    },
    {
     "data": {
      "image/png": "[encoded data removed]",
      "text/plain": [
       "<Figure size 384x192 with 2 Axes>"
      ]
     },
     "metadata": {
      "needs_background": "light"
     },
     "output_type": "display_data"
    },
    {
     "data": {
      "image/png": "[encoded data removed]",
      "text/plain": [
       "<Figure size 384x192 with 2 Axes>"
      ]
     },
     "metadata": {
      "needs_background": "light"
     },
     "output_type": "display_data"
    },
    {
     "data": {
      "image/png": "[encoded data removed]",
      "text/plain": [
       "<Figure size 384x192 with 2 Axes>"
      ]
     },
     "metadata": {
      "needs_background": "light"
     },
     "output_type": "display_data"
    },
    {
     "data": {
      "image/png": "[encoded data removed]",
      "text/plain": [
       "<Figure size 384x192 with 2 Axes>"
      ]
     },
     "metadata": {
      "needs_background": "light"
     },
     "output_type": "display_data"
    },
    {
     "data": {
      "image/png": "[encoded data removed]",
      "text/plain": [
       "<Figure size 384x192 with 2 Axes>"
      ]
     },
     "metadata": {
      "needs_background": "light"
     },
     "output_type": "display_data"
    },
    {
     "data": {
      "image/png": "[encoded data removed]",
      "text/plain": [
       "<Figure size 384x192 with 2 Axes>"
      ]
     },
     "metadata": {
      "needs_background": "light"
     },
     "output_type": "display_data"
    }
   ],
   "source": [
    "svgs = glob.glob('ImagesGT/*.svg')\n",
    "for svg in tqdm(svgs[75:], position=0):\n",
    "    save_sample(svg)"
   ]
  },
  {
   "cell_type": "code",
   "execution_count": null,
   "metadata": {
    "scrolled": false
   },
   "outputs": [],
   "source": [
    "svgs = glob.glob('ImagesGT/*.svg')\n",
    "\n",
    "svg = svgs[0]\n",
    "\n",
    "classes = (\n",
    "    'Door',\n",
    "    'Window',\n",
    "    'Room',\n",
    "    'Wall',\n",
    "    'Separation',\n",
    "    'Parking',\n",
    ")\n",
    "\n",
    "leftlineup = (\n",
    "    ('Door', 1),\n",
    "    ('Window', 2),\n",
    "    ('Parking', 3),\n",
    "    ('Room', 5),\n",
    "    #('Door', 64),\n",
    "    #('Window', 128),\n",
    "    #('Parking', 196),\n",
    "    #('Room', 255),\n",
    ")\n",
    "\n",
    "rightlineup = (\n",
    "    ('Door', 1),\n",
    "    ('Window', 2),\n",
    "    ('Parking', 3),\n",
    "    ('Room', 4),\n",
    "    ('Wall', 5),\n",
    "    #('Door', 64),\n",
    "    #('Window', 128),\n",
    "    #('Parking', 196),\n",
    "    #('Room', 255),\n",
    "    #('Wall', 32),\n",
    ")\n",
    "\n",
    "byclass, height, width = parse_svg(svg, classes)\n",
    "\n",
    "mask = get_mask(byclass, height, width)\n",
    "mask = (mask * (5 / 255)).astype(int)\n",
    "\n",
    "left  = get_layer(mask, byclass, height, width, leftlineup, True)\n",
    "right = get_layer(mask, byclass, height, width, rightlineup, False)"
   ]
  },
  {
   "cell_type": "code",
   "execution_count": null,
   "metadata": {
    "scrolled": false
   },
   "outputs": [],
   "source": [
    "#left, right = layers\n",
    "\n",
    "cmaps = '''Accent, Accent_r, Blues, Blues_r, BrBG, BrBG_r, BuGn, BuGn_r, BuPu, BuPu_r, CMRmap, CMRmap_r, \n",
    "Dark2, Dark2_r, GnBu, GnBu_r, Greens, Greens_r, Greys, Greys_r, OrRd, OrRd_r, Oranges, Oranges_r, \n",
    ", PRGn_r, Paired, Paired_r, Pastel1, Pastel1_r, Pastel2, Pastel2_r, PiYG, PiYG_r, \n",
    "PuBu, PuBuGn, PuBuGn_r, PuBu_r, PuOr, PuOr_r, PuRd, PuRd_r, Purples, Purples_r, \n",
    "RdBu, RdBu_r, RdGy, RdGy_r, RdPu, RdPu_r, RdYlBu, RdYlBu_r, RdYlGn, RdYlGn_r, \n",
    "Reds, Reds_r, Set1, Set1_r, Set2, Set2_r, Set3, Set3_r, Spectral, Spectral_r, Wistia, Wistia_r, \n",
    "YlGn, YlGnBu, YlGnBu_r, YlGn_r, YlOrBr, YlOrBr_r, YlOrRd, YlOrRd_r, afmhot, afmhot_r, autumn, autumn_r, \n",
    "binary, binary_r, bone, bone_r, brg, brg_r, bwr, bwr_r, cividis, cividis_r, cool, cool_r, \n",
    "coolwarm, coolwarm_r, copper, copper_r, cubehelix, cubehelix_r, flag, flag_r, \n",
    "gist_earth, gist_earth_r, gist_gray, gist_gray_r, gist_heat, gist_heat_r, gist_ncar, gist_ncar_r, \n",
    "gist_rainbow, gist_rainbow_r, gist_stern, gist_stern_r, gist_yarg, gist_yarg_r, \n",
    "gnuplot, gnuplot2, gnuplot2_r, gnuplot_r, gray, gray_r, hot, hot_r, hsv, hsv_r, \n",
    "inferno, inferno_r, jet, jet_r, magma, magma_r, nipy_spectral, nipy_spectral_r, ocean, ocean_r, pink, pink_r, \n",
    "plasma, plasma_r, prism, prism_r, rainbow, rainbow_r, seismic, seismic_r, spring, spring_r, summer, summer_r, \n",
    "tab10, tab10_r, tab20, tab20_r, tab20b, tab20b_r, tab20c, tab20c_r, terrain, terrain_r, \n",
    "twilight, twilight_r, twilight_shifted, twilight_shifted_r, viridis, viridis_r, winter, winter_r'''.replace('\\n', '').split(', ')\n",
    "\n",
    "print('cmaps', len(cmaps))\n",
    "\n",
    "path = './tmp/{}.png'\n",
    "for cmap in cmaps[-80:-60]:\n",
    "    if not cmap.strip():\n",
    "        continue\n",
    "    f, (left_ax, right_ax) = plot(1, 2, figsize=(16, 16))\n",
    "    f.subplots_adjust(wspace=0, hspace=0, left=0, right=1, bottom=0, top=1)\n",
    "    left_ax.axis('off')\n",
    "    right_ax.axis('off')\n",
    "    left_ax.imshow(left, cmap=cmap, vmin=0, vmax=None)\n",
    "    right_ax.imshow(right, cmap=cmap, vmin=0, vmax=None)\n",
    "    f.savefig(path.format(cmap))\n",
    "    del f"
   ]
  },
  {
   "cell_type": "code",
   "execution_count": 265,
   "metadata": {},
   "outputs": [
    {
     "data": {
      "image/png": "[encoded data removed]",
      "text/plain": [
       "<Figure size 800x800 with 1 Axes>"
      ]
     },
     "metadata": {
      "needs_background": "light"
     },
     "output_type": "display_data"
    },
    {
     "data": {
      "image/png": "[encoded data removed]",
      "text/plain": [
       "<Figure size 800x800 with 1 Axes>"
      ]
     },
     "metadata": {
      "needs_background": "light"
     },
     "output_type": "display_data"
    }
   ],
   "source": [
    "for layer in layers:\n",
    "    f, ax = plot()\n",
    "    ax.imshow(layer, cmap='jet', vmin=0, vmax=255)"
   ]
  },
  {
   "cell_type": "code",
   "execution_count": 166,
   "metadata": {},
   "outputs": [],
   "source": [
    "#mask[:len(mask) // 2, :] += 128\n",
    "\"\"\"\n",
    "ValueError: Colormap gist_coolwarm is not recognized. Possible values are: \n",
    "Accent, Accent_r, Blues, Blues_r, BrBG, BrBG_r, BuGn, BuGn_r, BuPu, BuPu_r, CMRmap, CMRmap_r, \n",
    "Dark2, Dark2_r, GnBu, GnBu_r, Greens, Greens_r, Greys, Greys_r, OrRd, OrRd_r, Oranges, Oranges_r, \n",
    ", PRGn_r, Paired, Paired_r, Pastel1, Pastel1_r, Pastel2, Pastel2_r, PiYG, PiYG_r, \n",
    "PuBu, PuBuGn, PuBuGn_r, PuBu_r, PuOr, PuOr_r, PuRd, PuRd_r, Purples, Purples_r, \n",
    "RdBu, RdBu_r, RdGy, RdGy_r, RdPu, RdPu_r, RdYlBu, RdYlBu_r, RdYlGn, RdYlGn_r, \n",
    "Reds, Reds_r, Set1, Set1_r, Set2, Set2_r, Set3, Set3_r, Spectral, Spectral_r, Wistia, Wistia_r, \n",
    "YlGn, YlGnBu, YlGnBu_r, YlGn_r, YlOrBr, YlOrBr_r, YlOrRd, YlOrRd_r, afmhot, afmhot_r, autumn, autumn_r, \n",
    "binary, binary_r, bone, bone_r, brg, brg_r, bwr, bwr_r, cividis, cividis_r, cool, cool_r, \n",
    "coolwarm, coolwarm_r, copper, copper_r, cubehelix, cubehelix_r, flag, flag_r, \n",
    "gist_earth, gist_earth_r, gist_gray, gist_gray_r, gist_heat, gist_heat_r, gist_ncar, gist_ncar_r, \n",
    "gist_rainbow, gist_rainbow_r, gist_stern, gist_stern_r, gist_yarg, gist_yarg_r, \n",
    "gnuplot, gnuplot2, gnuplot2_r, gnuplot_r, gray, gray_r, hot, hot_r, hsv, hsv_r, \n",
    "inferno, inferno_r, jet, jet_r, magma, magma_r, nipy_spectral, nipy_spectral_r, ocean, ocean_r, pink, pink_r, \n",
    "plasma, plasma_r, prism, prism_r, rainbow, rainbow_r, seismic, seismic_r, spring, spring_r, summer, summer_r, \n",
    "tab10, tab10_r, tab20, tab20_r, tab20b, tab20b_r, tab20c, tab20c_r, terrain, terrain_r, \n",
    "twilight, twilight_r, twilight_shifted, twilight_shifted_r, viridis, viridis_r, winter, winter_r\n",
    "\"\"\""
   ]
  },
  {
   "cell_type": "code",
   "execution_count": 12,
   "metadata": {
    "scrolled": false
   },
   "outputs": [
    {
     "name": "stdout",
     "output_type": "stream",
     "text": [
      "SVG cubicasa5k/high_quality/5714/model.svg\n"
     ]
    },
    {
     "data": {
      "image/png": "[encoded data removed]",
      "text/plain": [
       "<Figure size 800x800 with 1 Axes>"
      ]
     },
     "metadata": {
      "needs_background": "light"
     },
     "output_type": "display_data"
    }
   ],
   "source": [
    "import reportlab\n",
    "\n",
    "\n",
    "def py2loop(py):\n",
    "    xs, ys = py.points[::2], py.points[1::2]\n",
    "    loop = [vec3(x, y, 0) for x, y in zip(xs, ys)]\n",
    "    #if loop_normal(loop).z < 0:\n",
    "    #    loop.reverse()\n",
    "    return loop\n",
    "\n",
    "\n",
    "def show(polygons):\n",
    "    f, ax = plot()\n",
    "    for col, pys in polygons:\n",
    "        for py in pys:\n",
    "            loop = py2loop(py)\n",
    "            plot_loop(ax, loop, lw=1, col=col, fill=col)\n",
    "\n",
    "\n",
    "def comb(contents, polygons=None):\n",
    "    polygons = defaultdict(list) if polygons is None else polygons\n",
    "    for content in contents:\n",
    "        #print(content.__dict__)\n",
    "        if isinstance(content, reportlab.graphics.shapes.Group):\n",
    "            comb(content.contents, polygons=polygons)\n",
    "        elif isinstance(content, reportlab.graphics.shapes.Polygon):\n",
    "            if content.fillColor:\n",
    "                #color = content.fillColor.bitmap_rgb()\n",
    "                color = content.fillColor.rgba()\n",
    "            else:\n",
    "                color = 'k'\n",
    "            polygons[color].append(content)\n",
    "        elif hasattr(content, 'points'):\n",
    "            #print(content.__class__)\n",
    "            continue\n",
    "            if content.fillColor:\n",
    "                color = content.fillColor.bitmap_rgb()\n",
    "            else:\n",
    "                color = 'k'\n",
    "            polygons[color].append(content)\n",
    "        else:\n",
    "            #print('who dis', content)\n",
    "            pass\n",
    "    return list(polygons.items())\n",
    "\n",
    "\n",
    "svgs = glob.glob('cubicasa5k/high_quality/*/model.svg')\n",
    "svg = svgs[1]\n",
    "print('SVG', svg)\n",
    "\n",
    "drawing = svg2rlg(svg)\n",
    "polygons = comb(drawing.contents)\n",
    "show(polygons)"
   ]
  }
 ],
 "metadata": {
  "kernelspec": {
   "display_name": "Python 3",
   "language": "python",
   "name": "python3"
  },
  "language_info": {
   "codemirror_mode": {
    "name": "ipython",
    "version": 3
   },
   "file_extension": ".py",
   "mimetype": "text/x-python",
   "name": "python",
   "nbconvert_exporter": "python",
   "pygments_lexer": "ipython3",
   "version": "3.7.1"
  }
 },
 "nbformat": 4,
 "nbformat_minor": 2
}
